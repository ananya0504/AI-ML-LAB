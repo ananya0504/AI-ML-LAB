{
 "cells": [
  {
   "cell_type": "code",
   "execution_count": 1,
   "metadata": {},
   "outputs": [
    {
     "name": "stdout",
     "output_type": "stream",
     "text": [
      "[0.4692737430167598, 0.49162011173184356, 0.5363128491620112, 0.553072625698324, 0.664804469273743, 0.776536312849162, 1.0, 0.0, 0.2569832402234637, 0.8603351955307262, 0.6871508379888268, 0.6145251396648045]\n"
     ]
    }
   ],
   "source": [
    "x=[-5,-1,7,10,30,50,90,-89,-43,65,34,21]\n",
    "Max_x=max(x)\n",
    "Min_x=min(x)\n",
    "y=[]\n",
    "for i in x:\n",
    "    temp = (i-Min_x)/(Max_x-Min_x)\n",
    "    y.append(temp)\n",
    "print(y)"
   ]
  },
  {
   "cell_type": "code",
   "execution_count": 3,
   "metadata": {},
   "outputs": [
    {
     "name": "stdout",
     "output_type": "stream",
     "text": [
      "[-5.0, -1.0, 7.0, 10.0, 30.0, 50.0, 90.0, -89.0, -43.0, 65.0, 34.0, 21.0]\n"
     ]
    }
   ],
   "source": [
    "x1=[]\n",
    "for i in y:\n",
    "    temp = i*(Max_x-Min_x) + Min_x\n",
    "    x1.append(temp)\n",
    "print(x1)"
   ]
  },
  {
   "cell_type": "code",
   "execution_count": null,
   "metadata": {},
   "outputs": [],
   "source": []
  }
 ],
 "metadata": {
  "kernelspec": {
   "display_name": "Python 3",
   "language": "python",
   "name": "python3"
  },
  "language_info": {
   "codemirror_mode": {
    "name": "ipython",
    "version": 3
   },
   "file_extension": ".py",
   "mimetype": "text/x-python",
   "name": "python",
   "nbconvert_exporter": "python",
   "pygments_lexer": "ipython3",
   "version": "3.8.5"
  }
 },
 "nbformat": 4,
 "nbformat_minor": 4
}
