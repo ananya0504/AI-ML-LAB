{
 "metadata": {
  "language_info": {
   "codemirror_mode": {
    "name": "ipython",
    "version": 3
   },
   "file_extension": ".py",
   "mimetype": "text/x-python",
   "name": "python",
   "nbconvert_exporter": "python",
   "pygments_lexer": "ipython3",
   "version": "3.8.3"
  },
  "orig_nbformat": 2,
  "kernelspec": {
   "name": "python3",
   "display_name": "Python 3.8.3 64-bit (conda)",
   "metadata": {
    "interpreter": {
     "hash": "dcd2035270d50d9430c41968e6aed532c91d837d37b6de1eec5eec412a86cd4c"
    }
   }
  }
 },
 "nbformat": 4,
 "nbformat_minor": 2,
 "cells": [
  {
   "cell_type": "code",
   "execution_count": 4,
   "metadata": {},
   "outputs": [
    {
     "output_type": "stream",
     "name": "stdout",
     "text": [
      "Array : \n [[ 0  8  0]\n [ 7  0  0]\n [-5  0  1]]\nResult :  (array([0, 1, 2, 2], dtype=int64), array([1, 0, 0, 2], dtype=int64))\nRows of non zero elements :  [0 1 2 2]\nColumns of non zero elements :  [0 1 2 2]\n"
     ]
    }
   ],
   "source": [
    "import numpy as np\n",
    "arr = np.array([[0, 8, 0],\n",
    "                [7, 0, 0], \n",
    "                [-5, 0, 1]]) \n",
    "  \n",
    "print (\"Array : \\n\", arr) \n",
    "    \n",
    "res = np.nonzero(arr)\n",
    "print (\"Result : \", res)  \n",
    "print (\"Rows of non zero elements : \", res[0])  \n",
    "print (\"Columns of non zero elements : \", res[0])  "
   ]
  },
  {
   "cell_type": "code",
   "execution_count": null,
   "metadata": {},
   "outputs": [],
   "source": []
  }
 ]
}