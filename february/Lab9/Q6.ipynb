{
 "metadata": {
  "language_info": {
   "codemirror_mode": {
    "name": "ipython",
    "version": 3
   },
   "file_extension": ".py",
   "mimetype": "text/x-python",
   "name": "python",
   "nbconvert_exporter": "python",
   "pygments_lexer": "ipython3",
   "version": "3.8.3"
  },
  "orig_nbformat": 2,
  "kernelspec": {
   "name": "python3",
   "display_name": "Python 3.8.3 64-bit (conda)",
   "metadata": {
    "interpreter": {
     "hash": "dcd2035270d50d9430c41968e6aed532c91d837d37b6de1eec5eec412a86cd4c"
    }
   }
  }
 },
 "nbformat": 4,
 "nbformat_minor": 2,
 "cells": [
  {
   "cell_type": "code",
   "execution_count": 1,
   "metadata": {},
   "outputs": [
    {
     "output_type": "stream",
     "name": "stdout",
     "text": [
      "\n [[1]\n [2]\n [3]\n [4]]\n\n [[-4 -5 -6]\n [-3 -4 -5]\n [-2 -3 -4]\n [-1 -2 -3]]\n\n [[-0.25       -0.2        -0.16666667]\n [-0.33333333 -0.25       -0.2       ]\n [-0.5        -0.33333333 -0.25      ]\n [-1.         -0.5        -0.33333333]]\n"
     ]
    }
   ],
   "source": [
    "import numpy as np\n",
    "\n",
    "X = np.array([1,2,3,4]) \n",
    "Y = np.array([5,6,7])\n",
    "\n",
    "X = X.reshape((-1,1))\n",
    "print(\"\\n\", X)\n",
    "\n",
    "diff_matrix = X-Y\n",
    "print(\"\\n\", diff_matrix)\n",
    "\n",
    "cauchym = 1.0/diff_matrix\n",
    "print(\"\\n\", cauchym)\n"
   ]
  },
  {
   "cell_type": "code",
   "execution_count": null,
   "metadata": {},
   "outputs": [],
   "source": []
  }
 ]
}