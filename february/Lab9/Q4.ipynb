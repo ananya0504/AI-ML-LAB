{
 "metadata": {
  "language_info": {
   "codemirror_mode": {
    "name": "ipython",
    "version": 3
   },
   "file_extension": ".py",
   "mimetype": "text/x-python",
   "name": "python",
   "nbconvert_exporter": "python",
   "pygments_lexer": "ipython3",
   "version": "3.8.3"
  },
  "orig_nbformat": 2,
  "kernelspec": {
   "name": "python3",
   "display_name": "Python 3.8.3 64-bit (conda)",
   "metadata": {
    "interpreter": {
     "hash": "dcd2035270d50d9430c41968e6aed532c91d837d37b6de1eec5eec412a86cd4c"
    }
   }
  }
 },
 "nbformat": 4,
 "nbformat_minor": 2,
 "cells": [
  {
   "cell_type": "code",
   "execution_count": 3,
   "metadata": {},
   "outputs": [
    {
     "output_type": "stream",
     "name": "stdout",
     "text": [
      "Original array:\n[0.81864003 0.32219334 0.25344796 0.25788842 0.91222206 0.8940117\n 0.91954829 0.98070876 0.58364977 0.28900101 0.44643326 0.80001742\n 0.81272634 0.94805655 0.69400253 0.04383935 0.30531693 0.44506346\n 0.50928402 0.63397277 0.10502739 0.22713413 0.67094161 0.54481107\n 0.52103974 0.39120106 0.88827071 0.82818557 0.56721278 0.18742618]\n"
     ]
    },
    {
     "output_type": "execute_result",
     "data": {
      "text/plain": [
       "0.5600424738236457"
      ]
     },
     "metadata": {},
     "execution_count": 3
    }
   ],
   "source": [
    "import numpy as np\n",
    "arr = np.random.random(30)\n",
    "print(\"Array:\")\n",
    "print(arr)\n",
    "x.mean()"
   ]
  },
  {
   "cell_type": "code",
   "execution_count": null,
   "metadata": {},
   "outputs": [],
   "source": []
  }
 ]
}