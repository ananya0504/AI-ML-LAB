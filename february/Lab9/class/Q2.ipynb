{
 "metadata": {
  "language_info": {
   "codemirror_mode": {
    "name": "ipython",
    "version": 3
   },
   "file_extension": ".py",
   "mimetype": "text/x-python",
   "name": "python",
   "nbconvert_exporter": "python",
   "pygments_lexer": "ipython3",
   "version": "3.8.3"
  },
  "orig_nbformat": 2,
  "kernelspec": {
   "name": "python3",
   "display_name": "Python 3.8.3 64-bit (conda)",
   "metadata": {
    "interpreter": {
     "hash": "dcd2035270d50d9430c41968e6aed532c91d837d37b6de1eec5eec412a86cd4c"
    }
   }
  }
 },
 "nbformat": 4,
 "nbformat_minor": 2,
 "cells": [
  {
   "cell_type": "code",
   "execution_count": 2,
   "metadata": {},
   "outputs": [],
   "source": [
    "import numpy as np"
   ]
  },
  {
   "cell_type": "code",
   "execution_count": 18,
   "metadata": {},
   "outputs": [
    {
     "output_type": "stream",
     "name": "stdout",
     "text": [
      "Matrix: \n [[1 2]\n [3 4]]\n\nShape of matrix:  (2, 2)\n\nSize of matrix:  4\n\n[1,1]th element:  4\n"
     ]
    }
   ],
   "source": [
    "D=np.array([[1,2],[3,4]])\n",
    "print(\"Matrix: \\n\",D)\n",
    "print(\"\\nShape of matrix: \",D.shape)\n",
    "print(\"\\nSize of matrix: \",D.size)\n",
    "print(\"\\n[1,1]th element: \",D[1,1])\n"
   ]
  },
  {
   "cell_type": "code",
   "execution_count": null,
   "metadata": {},
   "outputs": [],
   "source": []
  }
 ]
}