{
 "cells": [
  {
   "cell_type": "markdown",
   "metadata": {},
   "source": [
    "## Lab 11\n",
    "1. WAP using Pandas to add multiple series in a data frame\n",
    "2. WAP using Pandas to display the default index and set a column as an Index in a given dataframe.\n",
    "3. WAP using Pandas to add multiple dictionaries in a data frame\n",
    "4. WAP using Pandas to create a data frame with columns Name, Marks1, Marks2, Marks3, Marks4, Marks5, Total. Total is sum of marks1 to marks5 in each row.\n",
    "5. WAP using Pandas with dataframe of Ex 4 to find the students who scored more then 50% marks in total\n",
    "6. WAP using Pandas with dataframe of Ex 4 to find the students who scored more than 50% in total and marks1\n",
    "7. WAP using Pandas with dataframe of Ex 4 to find the students who scored more than 50% in total but less than 40 in marks1\n",
    "8. WAP using Pandas  with dataframe of Ex 4 to find the students who scored max marks in total and marks1\n",
    "9. WAP using Pandas with dataframe of Ex 4 to find the students who scored more than the mean of total\n",
    "10. WAP using Pandas with dataframe of Ex 4 to find the students who scored more than the mean of total and marks1"
   ]
  },
  {
   "cell_type": "code",
   "execution_count": null,
   "metadata": {},
   "outputs": [],
   "source": []
  }
 ],
 "metadata": {
  "kernelspec": {
   "display_name": "Python 3",
   "language": "python",
   "name": "python3"
  },
  "language_info": {
   "codemirror_mode": {
    "name": "ipython",
    "version": 3
   },
   "file_extension": ".py",
   "mimetype": "text/x-python",
   "name": "python",
   "nbconvert_exporter": "python",
   "pygments_lexer": "ipython3",
   "version": "3.8.5"
  }
 },
 "nbformat": 4,
 "nbformat_minor": 4
}