{
 "metadata": {
  "language_info": {
   "codemirror_mode": {
    "name": "ipython",
    "version": 3
   },
   "file_extension": ".py",
   "mimetype": "text/x-python",
   "name": "python",
   "nbconvert_exporter": "python",
   "pygments_lexer": "ipython3",
   "version": "3.9.1-final"
  },
  "orig_nbformat": 2,
  "kernelspec": {
   "name": "python391jvsc74a57bd063fd5069d213b44bf678585dea6b12cceca9941eaf7f819626cde1f2670de90d",
   "display_name": "Python 3.9.1 64-bit"
  },
  "metadata": {
   "interpreter": {
    "hash": "63fd5069d213b44bf678585dea6b12cceca9941eaf7f819626cde1f2670de90d"
   }
  }
 },
 "nbformat": 4,
 "nbformat_minor": 2,
 "cells": [
  {
   "cell_type": "code",
   "execution_count": 2,
   "metadata": {},
   "outputs": [],
   "source": [
    "import pandas as pd\n",
    "import numpy as np"
   ]
  },
  {
   "cell_type": "code",
   "execution_count": 3,
   "metadata": {},
   "outputs": [
    {
     "output_type": "stream",
     "name": "stdout",
     "text": [
      "0     7\n1     9\n2    11\n3    13\n4    15\ndtype: int64\n"
     ]
    }
   ],
   "source": [
    "# creating 2 Pandas Series\n",
    "series1 = pd.Series([1, 2, 3, 4, 5])\n",
    "series2 = pd.Series([6, 7, 8, 9, 10])\n",
    "  \n",
    "series3 = series1 + series2\n",
    "\n",
    "# displaying the result\n",
    "print(series3)"
   ]
  },
  {
   "cell_type": "code",
   "execution_count": 10,
   "metadata": {},
   "outputs": [
    {
     "output_type": "stream",
     "name": "stdout",
     "text": [
      "[0 1 2 3 4]\n"
     ]
    }
   ],
   "source": [
    "print(series3.index.values)"
   ]
  },
  {
   "cell_type": "code",
   "execution_count": 15,
   "metadata": {},
   "outputs": [
    {
     "output_type": "stream",
     "name": "stdout",
     "text": [
      "   month  year  sale\n0      2  2017    60\n1      5  2019    45\n2      8  2018    90\n3     10  2019    36\n       year  sale\nmonth            \n2      2017    60\n5      2019    45\n8      2018    90\n10     2019    36\n"
     ]
    }
   ],
   "source": [
    "df = pd.DataFrame({'month': [2, 5, 8, 10],\n",
    "                   'year': [2017, 2019, 2018, 2019],\n",
    "                   'sale': [60, 45, 90, 36]})\n",
    "print(df)\n",
    "df.set_index('month', inplace = True)\n",
    "print(df)"
   ]
  },
  {
   "cell_type": "code",
   "execution_count": 16,
   "metadata": {},
   "outputs": [
    {
     "output_type": "execute_result",
     "data": {
      "text/plain": [
       "  key  lval  rval\n",
       "0   A     1     4\n",
       "1   B     2     5"
      ],
      "text/html": "<div>\n<style scoped>\n    .dataframe tbody tr th:only-of-type {\n        vertical-align: middle;\n    }\n\n    .dataframe tbody tr th {\n        vertical-align: top;\n    }\n\n    .dataframe thead th {\n        text-align: right;\n    }\n</style>\n<table border=\"1\" class=\"dataframe\">\n  <thead>\n    <tr style=\"text-align: right;\">\n      <th></th>\n      <th>key</th>\n      <th>lval</th>\n      <th>rval</th>\n    </tr>\n  </thead>\n  <tbody>\n    <tr>\n      <th>0</th>\n      <td>A</td>\n      <td>1</td>\n      <td>4</td>\n    </tr>\n    <tr>\n      <th>1</th>\n      <td>B</td>\n      <td>2</td>\n      <td>5</td>\n    </tr>\n  </tbody>\n</table>\n</div>"
     },
     "metadata": {},
     "execution_count": 16
    }
   ],
   "source": [
    "left = pd.DataFrame({'key': ['A', 'B'], 'lval': [1, 2]})\n",
    "right = pd.DataFrame({'key': ['A', 'B'], 'rval': [4, 5]})\n",
    "pd.merge(left, right, on='key')"
   ]
  },
  {
   "cell_type": "code",
   "execution_count": 31,
   "metadata": {},
   "outputs": [
    {
     "output_type": "stream",
     "name": "stderr",
     "text": [
      "<ipython-input-31-38ea1c484cb8>:7: DeprecationWarning: The default dtype for empty Series will be 'object' instead of 'float64' in a future version. Specify a dtype explicitly to silence this warning.\n  'Total': pd.Series([])\n"
     ]
    },
    {
     "output_type": "execute_result",
     "data": {
      "text/plain": [
       "    Name  Marks1  Marks2  Marks3  Marks4  Marks5  Total\n",
       "0    Ana      45      23       0      89      45    NaN\n",
       "1  Priya      65      67      67      89      47    NaN\n",
       "2  Charu      78      45      68      87      49    NaN\n",
       "3  Suchi      12      99      69      86      50    NaN\n",
       "4  Richa       4      67      70     100      89    NaN"
      ],
      "text/html": "<div>\n<style scoped>\n    .dataframe tbody tr th:only-of-type {\n        vertical-align: middle;\n    }\n\n    .dataframe tbody tr th {\n        vertical-align: top;\n    }\n\n    .dataframe thead th {\n        text-align: right;\n    }\n</style>\n<table border=\"1\" class=\"dataframe\">\n  <thead>\n    <tr style=\"text-align: right;\">\n      <th></th>\n      <th>Name</th>\n      <th>Marks1</th>\n      <th>Marks2</th>\n      <th>Marks3</th>\n      <th>Marks4</th>\n      <th>Marks5</th>\n      <th>Total</th>\n    </tr>\n  </thead>\n  <tbody>\n    <tr>\n      <th>0</th>\n      <td>Ana</td>\n      <td>45</td>\n      <td>23</td>\n      <td>0</td>\n      <td>89</td>\n      <td>45</td>\n      <td>NaN</td>\n    </tr>\n    <tr>\n      <th>1</th>\n      <td>Priya</td>\n      <td>65</td>\n      <td>67</td>\n      <td>67</td>\n      <td>89</td>\n      <td>47</td>\n      <td>NaN</td>\n    </tr>\n    <tr>\n      <th>2</th>\n      <td>Charu</td>\n      <td>78</td>\n      <td>45</td>\n      <td>68</td>\n      <td>87</td>\n      <td>49</td>\n      <td>NaN</td>\n    </tr>\n    <tr>\n      <th>3</th>\n      <td>Suchi</td>\n      <td>12</td>\n      <td>99</td>\n      <td>69</td>\n      <td>86</td>\n      <td>50</td>\n      <td>NaN</td>\n    </tr>\n    <tr>\n      <th>4</th>\n      <td>Richa</td>\n      <td>4</td>\n      <td>67</td>\n      <td>70</td>\n      <td>100</td>\n      <td>89</td>\n      <td>NaN</td>\n    </tr>\n  </tbody>\n</table>\n</div>"
     },
     "metadata": {},
     "execution_count": 31
    }
   ],
   "source": [
    "data=pd.DataFrame({'Name':pd.Series([\"Ana\", \"Priya\", \"Charu\", \"Suchi\",\"Richa\"]),\n",
    "                  'Marks1':pd.Series([45,65,78,12,4]),\n",
    "                  'Marks2':pd.Series([23,67,45,99,67]),\n",
    "                  'Marks3':pd.Series([0,67,68,69,70]),\n",
    "                  'Marks4': pd.Series([89,89,87,86,100]),\n",
    "                  'Marks5': pd.Series([45,47,49,50,89]),\n",
    "                  'Total': pd.Series([])\n",
    "                  })\n",
    "data"
   ]
  },
  {
   "cell_type": "code",
   "execution_count": 32,
   "metadata": {},
   "outputs": [
    {
     "output_type": "stream",
     "name": "stdout",
     "text": [
      "    Name  Marks1  Marks2  Marks3  Marks4  Marks5  Total\n0    Ana      45      23       0      89      45    202\n1  Priya      65      67      67      89      47    335\n2  Charu      78      45      68      87      49    327\n3  Suchi      12      99      69      86      50    316\n4  Richa       4      67      70     100      89    330\n"
     ]
    }
   ],
   "source": [
    "data.loc[:,'Total']= data.Marks1+data.Marks2+data.Marks3+data.Marks4+data.Marks5\n",
    "print(data)"
   ]
  },
  {
   "cell_type": "code",
   "execution_count": 33,
   "metadata": {},
   "outputs": [
    {
     "output_type": "execute_result",
     "data": {
      "text/plain": [
       "    Name  Marks1  Marks2  Marks3  Marks4  Marks5  Total\n",
       "1  Priya      65      67      67      89      47    335\n",
       "2  Charu      78      45      68      87      49    327\n",
       "3  Suchi      12      99      69      86      50    316\n",
       "4  Richa       4      67      70     100      89    330"
      ],
      "text/html": "<div>\n<style scoped>\n    .dataframe tbody tr th:only-of-type {\n        vertical-align: middle;\n    }\n\n    .dataframe tbody tr th {\n        vertical-align: top;\n    }\n\n    .dataframe thead th {\n        text-align: right;\n    }\n</style>\n<table border=\"1\" class=\"dataframe\">\n  <thead>\n    <tr style=\"text-align: right;\">\n      <th></th>\n      <th>Name</th>\n      <th>Marks1</th>\n      <th>Marks2</th>\n      <th>Marks3</th>\n      <th>Marks4</th>\n      <th>Marks5</th>\n      <th>Total</th>\n    </tr>\n  </thead>\n  <tbody>\n    <tr>\n      <th>1</th>\n      <td>Priya</td>\n      <td>65</td>\n      <td>67</td>\n      <td>67</td>\n      <td>89</td>\n      <td>47</td>\n      <td>335</td>\n    </tr>\n    <tr>\n      <th>2</th>\n      <td>Charu</td>\n      <td>78</td>\n      <td>45</td>\n      <td>68</td>\n      <td>87</td>\n      <td>49</td>\n      <td>327</td>\n    </tr>\n    <tr>\n      <th>3</th>\n      <td>Suchi</td>\n      <td>12</td>\n      <td>99</td>\n      <td>69</td>\n      <td>86</td>\n      <td>50</td>\n      <td>316</td>\n    </tr>\n    <tr>\n      <th>4</th>\n      <td>Richa</td>\n      <td>4</td>\n      <td>67</td>\n      <td>70</td>\n      <td>100</td>\n      <td>89</td>\n      <td>330</td>\n    </tr>\n  </tbody>\n</table>\n</div>"
     },
     "metadata": {},
     "execution_count": 33
    }
   ],
   "source": [
    "data.loc[(data[\"Total\"] > 250)]"
   ]
  },
  {
   "cell_type": "code",
   "execution_count": 34,
   "metadata": {},
   "outputs": [
    {
     "output_type": "execute_result",
     "data": {
      "text/plain": [
       "    Name  Marks1  Marks2  Marks3  Marks4  Marks5  Total\n",
       "1  Priya      65      67      67      89      47    335\n",
       "2  Charu      78      45      68      87      49    327"
      ],
      "text/html": "<div>\n<style scoped>\n    .dataframe tbody tr th:only-of-type {\n        vertical-align: middle;\n    }\n\n    .dataframe tbody tr th {\n        vertical-align: top;\n    }\n\n    .dataframe thead th {\n        text-align: right;\n    }\n</style>\n<table border=\"1\" class=\"dataframe\">\n  <thead>\n    <tr style=\"text-align: right;\">\n      <th></th>\n      <th>Name</th>\n      <th>Marks1</th>\n      <th>Marks2</th>\n      <th>Marks3</th>\n      <th>Marks4</th>\n      <th>Marks5</th>\n      <th>Total</th>\n    </tr>\n  </thead>\n  <tbody>\n    <tr>\n      <th>1</th>\n      <td>Priya</td>\n      <td>65</td>\n      <td>67</td>\n      <td>67</td>\n      <td>89</td>\n      <td>47</td>\n      <td>335</td>\n    </tr>\n    <tr>\n      <th>2</th>\n      <td>Charu</td>\n      <td>78</td>\n      <td>45</td>\n      <td>68</td>\n      <td>87</td>\n      <td>49</td>\n      <td>327</td>\n    </tr>\n  </tbody>\n</table>\n</div>"
     },
     "metadata": {},
     "execution_count": 34
    }
   ],
   "source": [
    "data.loc[(data[\"Total\"] > 250) & (data[\"Marks1\"]>50)]"
   ]
  },
  {
   "cell_type": "code",
   "execution_count": 54,
   "metadata": {},
   "outputs": [
    {
     "output_type": "stream",
     "name": "stdout",
     "text": [
      "0    202\n1    335\n2    327\n3    316\n4    330\ndtype: int64\n\n\n    Name  Marks1  Marks2  Marks3  Marks4  Marks5  Total\n1  Priya      65      67      67      89      47    335\n\n\n    Name  Marks1  Marks2  Marks3  Marks4  Marks5  Total\n2  Charu      78      45      68      87      49    327\n\n\nEmpty DataFrame\nColumns: [Name, Marks1, Marks2, Marks3, Marks4, Marks5, Total]\nIndex: []\n"
     ]
    }
   ],
   "source": [
    "#max of every row\n",
    "maxValues = data.max(axis = 1)\n",
    "print(maxValues)\n",
    "print(\"\\n\")\n",
    "\n",
    "#max of total\n",
    "print(data[data.Total == data.Total.max()])\n",
    "print(\"\\n\")\n",
    "\n",
    "#max of marks1\n",
    "print(data[data.Marks1 == data.Marks1.max()])\n",
    "print(\"\\n\")\n",
    "\n",
    "#max of marks1 and total\n",
    "print( data[ (data.Marks1 == data.Marks1.max()) & (data.Total == data.Total.max()) ] )"
   ]
  },
  {
   "cell_type": "code",
   "execution_count": 53,
   "metadata": {},
   "outputs": [
    {
     "output_type": "stream",
     "name": "stdout",
     "text": [
      "Mean of Total 302.0\nMean of Marks1 40.8\n    Name  Marks1  Marks2  Marks3  Marks4  Marks5  Total\n1  Priya      65      67      67      89      47    335\n2  Charu      78      45      68      87      49    327\n3  Suchi      12      99      69      86      50    316\n4  Richa       4      67      70     100      89    330\n\n\n    Name  Marks1  Marks2  Marks3  Marks4  Marks5  Total\n0    Ana      45      23       0      89      45    202\n1  Priya      65      67      67      89      47    335\n2  Charu      78      45      68      87      49    327\n\n\n    Name  Marks1  Marks2  Marks3  Marks4  Marks5  Total\n1  Priya      65      67      67      89      47    335\n2  Charu      78      45      68      87      49    327\n"
     ]
    }
   ],
   "source": [
    "print(\"Mean of Total\" , data.Total.mean())\n",
    "print(\"Mean of Marks1\" , data.Marks1.mean())\n",
    "print(data[data.Total > data.Total.mean()])\n",
    "print(\"\\n\")\n",
    "print(data[data.Marks1 > data.Marks1.mean()])\n",
    "print(\"\\n\")\n",
    "print(data[ (data.Marks1 > data.Marks1.mean()) & (data.Total > data.Total.mean()) ])"
   ]
  },
  {
   "cell_type": "code",
   "execution_count": null,
   "metadata": {},
   "outputs": [],
   "source": []
  }
 ]
}