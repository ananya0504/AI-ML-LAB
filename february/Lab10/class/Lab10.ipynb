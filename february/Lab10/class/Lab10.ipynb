{
 "cells": [
  {
   "cell_type": "code",
   "execution_count": 17,
   "metadata": {},
   "outputs": [
    {
     "output_type": "stream",
     "name": "stdout",
     "text": [
      "1.0.5\n"
     ]
    }
   ],
   "source": [
    "import pandas as pd\n",
    "import numpy as np\n",
    "import matplotlib.pyplot as plt\n",
    "print(pd.__version__)"
   ]
  },
  {
   "cell_type": "code",
   "execution_count": 18,
   "metadata": {},
   "outputs": [
    {
     "output_type": "stream",
     "name": "stdout",
     "text": [
      "0    1.0\n1    3.0\n2    5.0\n3    NaN\n4    6.0\n5    8.0\ndtype: float64\nnan\n"
     ]
    }
   ],
   "source": [
    "d = pd.Series([1,3,5,np.nan,6,8]) #Series is a one-dimensional labeled array capable of holding data of any type (integer, string, float, python objects, etc.)\n",
    "\n",
    "print(d)\n",
    "print(np.nan) #np.nan means if something is null/ not present/null (idk maybe this is it)"
   ]
  },
  {
   "source": [
    "date_range()\n",
    "\n",
    "start : Left bound for generating dates.\n",
    "\n",
    "end : Right bound for generating dates.\n",
    "\n",
    "periods : Number of periods to generate.\n",
    "\n",
    "freq : Frequency strings can have multiples, e.g. ‘5H’. See here for a list of frequency aliases.\n",
    "\n",
    "tz : Time zone name for returning localized DatetimeIndex. By default, the resulting DatetimeIndex is timezone-naive.\n",
    "\n",
    "normalize : Normalize start/end dates to midnight before generating date range.\n",
    "\n",
    "name : Name of the resulting DatetimeIndex.\n",
    "\n",
    "closed : Make the interval closed with respect to the given frequency to the ‘left’, ‘right’, or both sides (None, the default).\n",
    "\n",
    "Returns: DatetimeIndex\n"
   ],
   "cell_type": "markdown",
   "metadata": {}
  },
  {
   "cell_type": "code",
   "execution_count": 19,
   "metadata": {},
   "outputs": [
    {
     "output_type": "execute_result",
     "data": {
      "text/plain": [
       "DatetimeIndex(['2021-01-01', '2021-01-02', '2021-01-03', '2021-01-04',\n",
       "               '2021-01-05', '2021-01-06'],\n",
       "              dtype='datetime64[ns]', freq='D')"
      ]
     },
     "metadata": {},
     "execution_count": 19
    }
   ],
   "source": [
    "dates = pd.date_range('20210101',periods=6) #return a fixed frequency DatetimeIndex\n",
    "dates"
   ]
  },
  {
   "cell_type": "code",
   "execution_count": 87,
   "metadata": {},
   "outputs": [
    {
     "output_type": "execute_result",
     "data": {
      "text/plain": [
       "                   A         B         C         D\n",
       "2021-01-01 -1.547739 -0.834650  1.241576 -1.251843\n",
       "2021-01-02  1.909491  1.211720  0.247884  0.204224\n",
       "2021-01-03 -1.048648  0.526206  0.071223  0.815333\n",
       "2021-01-04  0.841263  1.600426  0.216198 -1.350019\n",
       "2021-01-05 -1.310075 -0.645534  0.192445 -0.217712\n",
       "2021-01-06 -0.657368  1.122155  1.742567 -0.102834"
      ],
      "text/html": "<div>\n<style scoped>\n    .dataframe tbody tr th:only-of-type {\n        vertical-align: middle;\n    }\n\n    .dataframe tbody tr th {\n        vertical-align: top;\n    }\n\n    .dataframe thead th {\n        text-align: right;\n    }\n</style>\n<table border=\"1\" class=\"dataframe\">\n  <thead>\n    <tr style=\"text-align: right;\">\n      <th></th>\n      <th>A</th>\n      <th>B</th>\n      <th>C</th>\n      <th>D</th>\n    </tr>\n  </thead>\n  <tbody>\n    <tr>\n      <th>2021-01-01</th>\n      <td>-1.547739</td>\n      <td>-0.834650</td>\n      <td>1.241576</td>\n      <td>-1.251843</td>\n    </tr>\n    <tr>\n      <th>2021-01-02</th>\n      <td>1.909491</td>\n      <td>1.211720</td>\n      <td>0.247884</td>\n      <td>0.204224</td>\n    </tr>\n    <tr>\n      <th>2021-01-03</th>\n      <td>-1.048648</td>\n      <td>0.526206</td>\n      <td>0.071223</td>\n      <td>0.815333</td>\n    </tr>\n    <tr>\n      <th>2021-01-04</th>\n      <td>0.841263</td>\n      <td>1.600426</td>\n      <td>0.216198</td>\n      <td>-1.350019</td>\n    </tr>\n    <tr>\n      <th>2021-01-05</th>\n      <td>-1.310075</td>\n      <td>-0.645534</td>\n      <td>0.192445</td>\n      <td>-0.217712</td>\n    </tr>\n    <tr>\n      <th>2021-01-06</th>\n      <td>-0.657368</td>\n      <td>1.122155</td>\n      <td>1.742567</td>\n      <td>-0.102834</td>\n    </tr>\n  </tbody>\n</table>\n</div>"
     },
     "metadata": {},
     "execution_count": 87
    }
   ],
   "source": [
    "df=pd.DataFrame(np.random.randn(6,4),index=dates,columns=list('ABCD'))\n",
    "df\n",
    "\n",
    "#np.random.randn() gives random numbers between -1 to 1. (6,4) means a matrix of that dimension"
   ]
  },
  {
   "cell_type": "code",
   "execution_count": 86,
   "metadata": {},
   "outputs": [
    {
     "output_type": "execute_result",
     "data": {
      "text/plain": [
       "     A          B    C  D      E             F\n",
       "0  1.0 2021-01-02  1.0  3   test  BTech VI Sem\n",
       "1  1.0 2021-01-02  1.0  3  train  BTech VI Sem\n",
       "2  1.0 2021-01-02  1.0  3   test  BTech VI Sem\n",
       "3  1.0 2021-01-02  1.0  3  train  BTech VI Sem"
      ],
      "text/html": "<div>\n<style scoped>\n    .dataframe tbody tr th:only-of-type {\n        vertical-align: middle;\n    }\n\n    .dataframe tbody tr th {\n        vertical-align: top;\n    }\n\n    .dataframe thead th {\n        text-align: right;\n    }\n</style>\n<table border=\"1\" class=\"dataframe\">\n  <thead>\n    <tr style=\"text-align: right;\">\n      <th></th>\n      <th>A</th>\n      <th>B</th>\n      <th>C</th>\n      <th>D</th>\n      <th>E</th>\n      <th>F</th>\n    </tr>\n  </thead>\n  <tbody>\n    <tr>\n      <th>0</th>\n      <td>1.0</td>\n      <td>2021-01-02</td>\n      <td>1.0</td>\n      <td>3</td>\n      <td>test</td>\n      <td>BTech VI Sem</td>\n    </tr>\n    <tr>\n      <th>1</th>\n      <td>1.0</td>\n      <td>2021-01-02</td>\n      <td>1.0</td>\n      <td>3</td>\n      <td>train</td>\n      <td>BTech VI Sem</td>\n    </tr>\n    <tr>\n      <th>2</th>\n      <td>1.0</td>\n      <td>2021-01-02</td>\n      <td>1.0</td>\n      <td>3</td>\n      <td>test</td>\n      <td>BTech VI Sem</td>\n    </tr>\n    <tr>\n      <th>3</th>\n      <td>1.0</td>\n      <td>2021-01-02</td>\n      <td>1.0</td>\n      <td>3</td>\n      <td>train</td>\n      <td>BTech VI Sem</td>\n    </tr>\n  </tbody>\n</table>\n</div>"
     },
     "metadata": {},
     "execution_count": 86
    }
   ],
   "source": [
    "df2=pd.DataFrame({'A':1.,\n",
    "                  'B':pd.Timestamp('20210102'),\n",
    "                  'C':pd.Series(1,index=list(range(4)),dtype='float64'),\n",
    "                  'D':np.array([3]*4,dtype='int32'),\n",
    "                  'E':pd.Categorical([\"test\",\"train\",\"test\",\"train\"]),\n",
    "                  'F':'BTech VI Sem'})\n",
    "df2"
   ]
  },
  {
   "cell_type": "code",
   "execution_count": 22,
   "metadata": {},
   "outputs": [
    {
     "output_type": "execute_result",
     "data": {
      "text/plain": [
       "A           float64\n",
       "B    datetime64[ns]\n",
       "C           float64\n",
       "D             int32\n",
       "E          category\n",
       "F            object\n",
       "dtype: object"
      ]
     },
     "metadata": {},
     "execution_count": 22
    }
   ],
   "source": [
    "df2.dtypes"
   ]
  },
  {
   "cell_type": "code",
   "execution_count": 92,
   "metadata": {},
   "outputs": [
    {
     "output_type": "stream",
     "name": "stdout",
     "text": [
      "a    0.917447\nb   -0.467646\nc    1.358701\nd   -1.320255\ne   -1.578832\ndtype: float64\n"
     ]
    }
   ],
   "source": [
    "s = pd.Series(np.random.randn(5), index=[\"a\", \"b\", \"c\", \"d\", \"e\"])\n",
    "print(s)"
   ]
  },
  {
   "cell_type": "code",
   "execution_count": 91,
   "metadata": {},
   "outputs": [
    {
     "output_type": "execute_result",
     "data": {
      "text/plain": [
       "<PandasArray>\n",
       "[nan, nan, 1.0, 3.0, 5.0, nan]\n",
       "Length: 6, dtype: float64"
      ]
     },
     "metadata": {},
     "execution_count": 91
    }
   ],
   "source": [
    "s.array"
   ]
  },
  {
   "cell_type": "code",
   "execution_count": 89,
   "metadata": {},
   "outputs": [
    {
     "output_type": "execute_result",
     "data": {
      "text/plain": [
       "<DatetimeArray>\n",
       "['2021-01-01 00:00:00', '2021-01-02 00:00:00', '2021-01-03 00:00:00',\n",
       " '2021-01-04 00:00:00', '2021-01-05 00:00:00', '2021-01-06 00:00:00']\n",
       "Length: 6, dtype: datetime64[ns]"
      ]
     },
     "metadata": {},
     "execution_count": 89
    }
   ],
   "source": [
    "s.index.array"
   ]
  },
  {
   "cell_type": "code",
   "execution_count": 26,
   "metadata": {},
   "outputs": [
    {
     "output_type": "execute_result",
     "data": {
      "text/plain": [
       "array([ 0.60223618,  1.33573985, -0.37916773, -1.68740407,  1.65897416])"
      ]
     },
     "metadata": {},
     "execution_count": 26
    }
   ],
   "source": [
    "s.to_numpy() #Series.to_numpy()"
   ]
  },
  {
   "cell_type": "code",
   "execution_count": 27,
   "metadata": {},
   "outputs": [
    {
     "output_type": "execute_result",
     "data": {
      "text/plain": [
       "array([ 0.60223618,  1.33573985, -0.37916773, -1.68740407,  1.65897416])"
      ]
     },
     "metadata": {},
     "execution_count": 27
    }
   ],
   "source": [
    "np.asarray(s)\n",
    "#numpy.asarray()function is used when we want to convert input to an array. Input can be lists, lists of tuples, tuples, tuples of tuples, tuples of lists and ndarrays"
   ]
  },
  {
   "cell_type": "code",
   "execution_count": 95,
   "metadata": {},
   "outputs": [
    {
     "output_type": "execute_result",
     "data": {
      "text/plain": [
       "                   a         b         c         d\n",
       "2021-01-01 -1.547739 -0.834650  1.241576 -1.251843\n",
       "2021-01-02  1.909491  1.211720  0.247884  0.204224\n",
       "2021-01-03 -1.048648  0.526206  0.071223  0.815333\n",
       "2021-01-04  0.841263  1.600426  0.216198 -1.350019\n",
       "2021-01-05 -1.310075 -0.645534  0.192445 -0.217712\n",
       "2021-01-06 -0.657368  1.122155  1.742567 -0.102834"
      ],
      "text/html": "<div>\n<style scoped>\n    .dataframe tbody tr th:only-of-type {\n        vertical-align: middle;\n    }\n\n    .dataframe tbody tr th {\n        vertical-align: top;\n    }\n\n    .dataframe thead th {\n        text-align: right;\n    }\n</style>\n<table border=\"1\" class=\"dataframe\">\n  <thead>\n    <tr style=\"text-align: right;\">\n      <th></th>\n      <th>a</th>\n      <th>b</th>\n      <th>c</th>\n      <th>d</th>\n    </tr>\n  </thead>\n  <tbody>\n    <tr>\n      <th>2021-01-01</th>\n      <td>-1.547739</td>\n      <td>-0.834650</td>\n      <td>1.241576</td>\n      <td>-1.251843</td>\n    </tr>\n    <tr>\n      <th>2021-01-02</th>\n      <td>1.909491</td>\n      <td>1.211720</td>\n      <td>0.247884</td>\n      <td>0.204224</td>\n    </tr>\n    <tr>\n      <th>2021-01-03</th>\n      <td>-1.048648</td>\n      <td>0.526206</td>\n      <td>0.071223</td>\n      <td>0.815333</td>\n    </tr>\n    <tr>\n      <th>2021-01-04</th>\n      <td>0.841263</td>\n      <td>1.600426</td>\n      <td>0.216198</td>\n      <td>-1.350019</td>\n    </tr>\n    <tr>\n      <th>2021-01-05</th>\n      <td>-1.310075</td>\n      <td>-0.645534</td>\n      <td>0.192445</td>\n      <td>-0.217712</td>\n    </tr>\n    <tr>\n      <th>2021-01-06</th>\n      <td>-0.657368</td>\n      <td>1.122155</td>\n      <td>1.742567</td>\n      <td>-0.102834</td>\n    </tr>\n  </tbody>\n</table>\n</div>"
     },
     "metadata": {},
     "execution_count": 95
    }
   ],
   "source": [
    "df.columns = [x.lower() for x in df.columns]\n",
    "df"
   ]
  },
  {
   "cell_type": "code",
   "execution_count": 96,
   "metadata": {},
   "outputs": [
    {
     "output_type": "execute_result",
     "data": {
      "text/plain": [
       "                   a        b         c         d\n",
       "2021-01-01 -1.547739 -0.83465  1.241576 -1.251843\n",
       "2021-01-02  1.909491  1.21172  0.247884  0.204224"
      ],
      "text/html": "<div>\n<style scoped>\n    .dataframe tbody tr th:only-of-type {\n        vertical-align: middle;\n    }\n\n    .dataframe tbody tr th {\n        vertical-align: top;\n    }\n\n    .dataframe thead th {\n        text-align: right;\n    }\n</style>\n<table border=\"1\" class=\"dataframe\">\n  <thead>\n    <tr style=\"text-align: right;\">\n      <th></th>\n      <th>a</th>\n      <th>b</th>\n      <th>c</th>\n      <th>d</th>\n    </tr>\n  </thead>\n  <tbody>\n    <tr>\n      <th>2021-01-01</th>\n      <td>-1.547739</td>\n      <td>-0.83465</td>\n      <td>1.241576</td>\n      <td>-1.251843</td>\n    </tr>\n    <tr>\n      <th>2021-01-02</th>\n      <td>1.909491</td>\n      <td>1.21172</td>\n      <td>0.247884</td>\n      <td>0.204224</td>\n    </tr>\n  </tbody>\n</table>\n</div>"
     },
     "metadata": {},
     "execution_count": 96
    }
   ],
   "source": [
    "df.head(2)"
   ]
  },
  {
   "cell_type": "code",
   "execution_count": 97,
   "metadata": {},
   "outputs": [
    {
     "output_type": "execute_result",
     "data": {
      "text/plain": [
       "                   a         b         c         d\n",
       "2021-01-04  0.841263  1.600426  0.216198 -1.350019\n",
       "2021-01-05 -1.310075 -0.645534  0.192445 -0.217712\n",
       "2021-01-06 -0.657368  1.122155  1.742567 -0.102834"
      ],
      "text/html": "<div>\n<style scoped>\n    .dataframe tbody tr th:only-of-type {\n        vertical-align: middle;\n    }\n\n    .dataframe tbody tr th {\n        vertical-align: top;\n    }\n\n    .dataframe thead th {\n        text-align: right;\n    }\n</style>\n<table border=\"1\" class=\"dataframe\">\n  <thead>\n    <tr style=\"text-align: right;\">\n      <th></th>\n      <th>a</th>\n      <th>b</th>\n      <th>c</th>\n      <th>d</th>\n    </tr>\n  </thead>\n  <tbody>\n    <tr>\n      <th>2021-01-04</th>\n      <td>0.841263</td>\n      <td>1.600426</td>\n      <td>0.216198</td>\n      <td>-1.350019</td>\n    </tr>\n    <tr>\n      <th>2021-01-05</th>\n      <td>-1.310075</td>\n      <td>-0.645534</td>\n      <td>0.192445</td>\n      <td>-0.217712</td>\n    </tr>\n    <tr>\n      <th>2021-01-06</th>\n      <td>-0.657368</td>\n      <td>1.122155</td>\n      <td>1.742567</td>\n      <td>-0.102834</td>\n    </tr>\n  </tbody>\n</table>\n</div>"
     },
     "metadata": {},
     "execution_count": 97
    }
   ],
   "source": [
    "df.tail(3)"
   ]
  },
  {
   "cell_type": "code",
   "execution_count": 98,
   "metadata": {},
   "outputs": [
    {
     "output_type": "execute_result",
     "data": {
      "text/plain": [
       "DatetimeIndex(['2021-01-01', '2021-01-02', '2021-01-03', '2021-01-04',\n",
       "               '2021-01-05', '2021-01-06'],\n",
       "              dtype='datetime64[ns]', freq='D')"
      ]
     },
     "metadata": {},
     "execution_count": 98
    }
   ],
   "source": [
    "df.index"
   ]
  },
  {
   "cell_type": "code",
   "execution_count": 99,
   "metadata": {},
   "outputs": [
    {
     "output_type": "execute_result",
     "data": {
      "text/plain": [
       "              a         b         c         d\n",
       "count  6.000000  6.000000  6.000000  6.000000\n",
       "mean  -0.302179  0.496721  0.618649 -0.317142\n",
       "std    1.374743  1.019679  0.697422  0.842691\n",
       "min   -1.547739 -0.834650  0.071223 -1.350019\n",
       "25%   -1.244718 -0.352599  0.198383 -0.993310\n",
       "50%   -0.853008  0.824181  0.232041 -0.160273\n",
       "75%    0.466605  1.189329  0.993153  0.127459\n",
       "max    1.909491  1.600426  1.742567  0.815333"
      ],
      "text/html": "<div>\n<style scoped>\n    .dataframe tbody tr th:only-of-type {\n        vertical-align: middle;\n    }\n\n    .dataframe tbody tr th {\n        vertical-align: top;\n    }\n\n    .dataframe thead th {\n        text-align: right;\n    }\n</style>\n<table border=\"1\" class=\"dataframe\">\n  <thead>\n    <tr style=\"text-align: right;\">\n      <th></th>\n      <th>a</th>\n      <th>b</th>\n      <th>c</th>\n      <th>d</th>\n    </tr>\n  </thead>\n  <tbody>\n    <tr>\n      <th>count</th>\n      <td>6.000000</td>\n      <td>6.000000</td>\n      <td>6.000000</td>\n      <td>6.000000</td>\n    </tr>\n    <tr>\n      <th>mean</th>\n      <td>-0.302179</td>\n      <td>0.496721</td>\n      <td>0.618649</td>\n      <td>-0.317142</td>\n    </tr>\n    <tr>\n      <th>std</th>\n      <td>1.374743</td>\n      <td>1.019679</td>\n      <td>0.697422</td>\n      <td>0.842691</td>\n    </tr>\n    <tr>\n      <th>min</th>\n      <td>-1.547739</td>\n      <td>-0.834650</td>\n      <td>0.071223</td>\n      <td>-1.350019</td>\n    </tr>\n    <tr>\n      <th>25%</th>\n      <td>-1.244718</td>\n      <td>-0.352599</td>\n      <td>0.198383</td>\n      <td>-0.993310</td>\n    </tr>\n    <tr>\n      <th>50%</th>\n      <td>-0.853008</td>\n      <td>0.824181</td>\n      <td>0.232041</td>\n      <td>-0.160273</td>\n    </tr>\n    <tr>\n      <th>75%</th>\n      <td>0.466605</td>\n      <td>1.189329</td>\n      <td>0.993153</td>\n      <td>0.127459</td>\n    </tr>\n    <tr>\n      <th>max</th>\n      <td>1.909491</td>\n      <td>1.600426</td>\n      <td>1.742567</td>\n      <td>0.815333</td>\n    </tr>\n  </tbody>\n</table>\n</div>"
     },
     "metadata": {},
     "execution_count": 99
    }
   ],
   "source": [
    "df.describe()\n",
    "\n",
    "#The describe() function is used to generate descriptive statistics that summarize the central tendency, dispersion and shape of a dataset’s distribution, excluding NaN values"
   ]
  },
  {
   "cell_type": "code",
   "execution_count": 33,
   "metadata": {},
   "outputs": [
    {
     "output_type": "execute_result",
     "data": {
      "text/plain": [
       "(6, 4)"
      ]
     },
     "metadata": {},
     "execution_count": 33
    }
   ],
   "source": [
    "df.shape"
   ]
  },
  {
   "cell_type": "code",
   "execution_count": 100,
   "metadata": {},
   "outputs": [
    {
     "output_type": "execute_result",
     "data": {
      "text/plain": [
       "                   a         b         c         d\n",
       "2021-01-01 -1.547739 -0.834650  1.241576 -1.251843\n",
       "2021-01-02  1.909491  1.211720  0.247884  0.204224\n",
       "2021-01-03 -1.048648  0.526206  0.071223  0.815333\n",
       "2021-01-04  0.841263  1.600426  0.216198 -1.350019\n",
       "2021-01-05 -1.310075 -0.645534  0.192445 -0.217712\n",
       "2021-01-06 -0.657368  1.122155  1.742567 -0.102834"
      ],
      "text/html": "<div>\n<style scoped>\n    .dataframe tbody tr th:only-of-type {\n        vertical-align: middle;\n    }\n\n    .dataframe tbody tr th {\n        vertical-align: top;\n    }\n\n    .dataframe thead th {\n        text-align: right;\n    }\n</style>\n<table border=\"1\" class=\"dataframe\">\n  <thead>\n    <tr style=\"text-align: right;\">\n      <th></th>\n      <th>a</th>\n      <th>b</th>\n      <th>c</th>\n      <th>d</th>\n    </tr>\n  </thead>\n  <tbody>\n    <tr>\n      <th>2021-01-01</th>\n      <td>-1.547739</td>\n      <td>-0.834650</td>\n      <td>1.241576</td>\n      <td>-1.251843</td>\n    </tr>\n    <tr>\n      <th>2021-01-02</th>\n      <td>1.909491</td>\n      <td>1.211720</td>\n      <td>0.247884</td>\n      <td>0.204224</td>\n    </tr>\n    <tr>\n      <th>2021-01-03</th>\n      <td>-1.048648</td>\n      <td>0.526206</td>\n      <td>0.071223</td>\n      <td>0.815333</td>\n    </tr>\n    <tr>\n      <th>2021-01-04</th>\n      <td>0.841263</td>\n      <td>1.600426</td>\n      <td>0.216198</td>\n      <td>-1.350019</td>\n    </tr>\n    <tr>\n      <th>2021-01-05</th>\n      <td>-1.310075</td>\n      <td>-0.645534</td>\n      <td>0.192445</td>\n      <td>-0.217712</td>\n    </tr>\n    <tr>\n      <th>2021-01-06</th>\n      <td>-0.657368</td>\n      <td>1.122155</td>\n      <td>1.742567</td>\n      <td>-0.102834</td>\n    </tr>\n  </tbody>\n</table>\n</div>"
     },
     "metadata": {},
     "execution_count": 100
    }
   ],
   "source": [
    "df"
   ]
  },
  {
   "cell_type": "code",
   "execution_count": 101,
   "metadata": {},
   "outputs": [
    {
     "output_type": "execute_result",
     "data": {
      "text/plain": [
       "   2021-01-01  2021-01-02  2021-01-03  2021-01-04  2021-01-05  2021-01-06\n",
       "a   -1.547739    1.909491   -1.048648    0.841263   -1.310075   -0.657368\n",
       "b   -0.834650    1.211720    0.526206    1.600426   -0.645534    1.122155\n",
       "c    1.241576    0.247884    0.071223    0.216198    0.192445    1.742567\n",
       "d   -1.251843    0.204224    0.815333   -1.350019   -0.217712   -0.102834"
      ],
      "text/html": "<div>\n<style scoped>\n    .dataframe tbody tr th:only-of-type {\n        vertical-align: middle;\n    }\n\n    .dataframe tbody tr th {\n        vertical-align: top;\n    }\n\n    .dataframe thead th {\n        text-align: right;\n    }\n</style>\n<table border=\"1\" class=\"dataframe\">\n  <thead>\n    <tr style=\"text-align: right;\">\n      <th></th>\n      <th>2021-01-01</th>\n      <th>2021-01-02</th>\n      <th>2021-01-03</th>\n      <th>2021-01-04</th>\n      <th>2021-01-05</th>\n      <th>2021-01-06</th>\n    </tr>\n  </thead>\n  <tbody>\n    <tr>\n      <th>a</th>\n      <td>-1.547739</td>\n      <td>1.909491</td>\n      <td>-1.048648</td>\n      <td>0.841263</td>\n      <td>-1.310075</td>\n      <td>-0.657368</td>\n    </tr>\n    <tr>\n      <th>b</th>\n      <td>-0.834650</td>\n      <td>1.211720</td>\n      <td>0.526206</td>\n      <td>1.600426</td>\n      <td>-0.645534</td>\n      <td>1.122155</td>\n    </tr>\n    <tr>\n      <th>c</th>\n      <td>1.241576</td>\n      <td>0.247884</td>\n      <td>0.071223</td>\n      <td>0.216198</td>\n      <td>0.192445</td>\n      <td>1.742567</td>\n    </tr>\n    <tr>\n      <th>d</th>\n      <td>-1.251843</td>\n      <td>0.204224</td>\n      <td>0.815333</td>\n      <td>-1.350019</td>\n      <td>-0.217712</td>\n      <td>-0.102834</td>\n    </tr>\n  </tbody>\n</table>\n</div>"
     },
     "metadata": {},
     "execution_count": 101
    }
   ],
   "source": [
    "df.T\n",
    "\n",
    "#transpose"
   ]
  },
  {
   "cell_type": "code",
   "execution_count": 102,
   "metadata": {},
   "outputs": [
    {
     "output_type": "execute_result",
     "data": {
      "text/plain": [
       "                   a         b         c         d\n",
       "2021-01-01 -1.547739 -0.834650  1.241576 -1.251843\n",
       "2021-01-05 -1.310075 -0.645534  0.192445 -0.217712\n",
       "2021-01-03 -1.048648  0.526206  0.071223  0.815333\n",
       "2021-01-06 -0.657368  1.122155  1.742567 -0.102834\n",
       "2021-01-02  1.909491  1.211720  0.247884  0.204224\n",
       "2021-01-04  0.841263  1.600426  0.216198 -1.350019"
      ],
      "text/html": "<div>\n<style scoped>\n    .dataframe tbody tr th:only-of-type {\n        vertical-align: middle;\n    }\n\n    .dataframe tbody tr th {\n        vertical-align: top;\n    }\n\n    .dataframe thead th {\n        text-align: right;\n    }\n</style>\n<table border=\"1\" class=\"dataframe\">\n  <thead>\n    <tr style=\"text-align: right;\">\n      <th></th>\n      <th>a</th>\n      <th>b</th>\n      <th>c</th>\n      <th>d</th>\n    </tr>\n  </thead>\n  <tbody>\n    <tr>\n      <th>2021-01-01</th>\n      <td>-1.547739</td>\n      <td>-0.834650</td>\n      <td>1.241576</td>\n      <td>-1.251843</td>\n    </tr>\n    <tr>\n      <th>2021-01-05</th>\n      <td>-1.310075</td>\n      <td>-0.645534</td>\n      <td>0.192445</td>\n      <td>-0.217712</td>\n    </tr>\n    <tr>\n      <th>2021-01-03</th>\n      <td>-1.048648</td>\n      <td>0.526206</td>\n      <td>0.071223</td>\n      <td>0.815333</td>\n    </tr>\n    <tr>\n      <th>2021-01-06</th>\n      <td>-0.657368</td>\n      <td>1.122155</td>\n      <td>1.742567</td>\n      <td>-0.102834</td>\n    </tr>\n    <tr>\n      <th>2021-01-02</th>\n      <td>1.909491</td>\n      <td>1.211720</td>\n      <td>0.247884</td>\n      <td>0.204224</td>\n    </tr>\n    <tr>\n      <th>2021-01-04</th>\n      <td>0.841263</td>\n      <td>1.600426</td>\n      <td>0.216198</td>\n      <td>-1.350019</td>\n    </tr>\n  </tbody>\n</table>\n</div>"
     },
     "metadata": {},
     "execution_count": 102
    }
   ],
   "source": [
    "df.sort_values(by='b')"
   ]
  },
  {
   "cell_type": "code",
   "execution_count": 105,
   "metadata": {},
   "outputs": [
    {
     "output_type": "execute_result",
     "data": {
      "text/plain": [
       "                   a         b         c         d\n",
       "2021-01-06 -0.657368  1.122155  1.742567 -0.102834\n",
       "2021-01-05 -1.310075 -0.645534  0.192445 -0.217712\n",
       "2021-01-04  0.841263  1.600426  0.216198 -1.350019\n",
       "2021-01-03 -1.048648  0.526206  0.071223  0.815333\n",
       "2021-01-02  1.909491  1.211720  0.247884  0.204224\n",
       "2021-01-01 -1.547739 -0.834650  1.241576 -1.251843"
      ],
      "text/html": "<div>\n<style scoped>\n    .dataframe tbody tr th:only-of-type {\n        vertical-align: middle;\n    }\n\n    .dataframe tbody tr th {\n        vertical-align: top;\n    }\n\n    .dataframe thead th {\n        text-align: right;\n    }\n</style>\n<table border=\"1\" class=\"dataframe\">\n  <thead>\n    <tr style=\"text-align: right;\">\n      <th></th>\n      <th>a</th>\n      <th>b</th>\n      <th>c</th>\n      <th>d</th>\n    </tr>\n  </thead>\n  <tbody>\n    <tr>\n      <th>2021-01-06</th>\n      <td>-0.657368</td>\n      <td>1.122155</td>\n      <td>1.742567</td>\n      <td>-0.102834</td>\n    </tr>\n    <tr>\n      <th>2021-01-05</th>\n      <td>-1.310075</td>\n      <td>-0.645534</td>\n      <td>0.192445</td>\n      <td>-0.217712</td>\n    </tr>\n    <tr>\n      <th>2021-01-04</th>\n      <td>0.841263</td>\n      <td>1.600426</td>\n      <td>0.216198</td>\n      <td>-1.350019</td>\n    </tr>\n    <tr>\n      <th>2021-01-03</th>\n      <td>-1.048648</td>\n      <td>0.526206</td>\n      <td>0.071223</td>\n      <td>0.815333</td>\n    </tr>\n    <tr>\n      <th>2021-01-02</th>\n      <td>1.909491</td>\n      <td>1.211720</td>\n      <td>0.247884</td>\n      <td>0.204224</td>\n    </tr>\n    <tr>\n      <th>2021-01-01</th>\n      <td>-1.547739</td>\n      <td>-0.834650</td>\n      <td>1.241576</td>\n      <td>-1.251843</td>\n    </tr>\n  </tbody>\n</table>\n</div>"
     },
     "metadata": {},
     "execution_count": 105
    }
   ],
   "source": [
    "df.sort_index(ascending=False)\n",
    "\n",
    "#sorts according tot he index"
   ]
  },
  {
   "cell_type": "code",
   "execution_count": 106,
   "metadata": {},
   "outputs": [
    {
     "output_type": "execute_result",
     "data": {
      "text/plain": [
       "2021-01-01   -1.547739\n",
       "2021-01-02    1.909491\n",
       "2021-01-03   -1.048648\n",
       "2021-01-04    0.841263\n",
       "2021-01-05   -1.310075\n",
       "2021-01-06   -0.657368\n",
       "Freq: D, Name: a, dtype: float64"
      ]
     },
     "metadata": {},
     "execution_count": 106
    }
   ],
   "source": [
    "df['a']"
   ]
  },
  {
   "cell_type": "code",
   "execution_count": 111,
   "metadata": {},
   "outputs": [
    {
     "output_type": "execute_result",
     "data": {
      "text/plain": [
       "                   a         b         c         d\n",
       "2021-01-02  1.909491  1.211720  0.247884  0.204224\n",
       "2021-01-03 -1.048648  0.526206  0.071223  0.815333"
      ],
      "text/html": "<div>\n<style scoped>\n    .dataframe tbody tr th:only-of-type {\n        vertical-align: middle;\n    }\n\n    .dataframe tbody tr th {\n        vertical-align: top;\n    }\n\n    .dataframe thead th {\n        text-align: right;\n    }\n</style>\n<table border=\"1\" class=\"dataframe\">\n  <thead>\n    <tr style=\"text-align: right;\">\n      <th></th>\n      <th>a</th>\n      <th>b</th>\n      <th>c</th>\n      <th>d</th>\n    </tr>\n  </thead>\n  <tbody>\n    <tr>\n      <th>2021-01-02</th>\n      <td>1.909491</td>\n      <td>1.211720</td>\n      <td>0.247884</td>\n      <td>0.204224</td>\n    </tr>\n    <tr>\n      <th>2021-01-03</th>\n      <td>-1.048648</td>\n      <td>0.526206</td>\n      <td>0.071223</td>\n      <td>0.815333</td>\n    </tr>\n  </tbody>\n</table>\n</div>"
     },
     "metadata": {},
     "execution_count": 111
    }
   ],
   "source": [
    "df[1:3]\n",
    "\n",
    "#0,1,2,3\n",
    "#1,2,3,4\n",
    "#only the 1st and 2nd row got printed ie. date 2 and 3"
   ]
  },
  {
   "cell_type": "code",
   "execution_count": 112,
   "metadata": {},
   "outputs": [
    {
     "output_type": "execute_result",
     "data": {
      "text/plain": [
       "                   a         b         c         d\n",
       "2021-01-02  1.909491  1.211720  0.247884  0.204224\n",
       "2021-01-03 -1.048648  0.526206  0.071223  0.815333\n",
       "2021-01-04  0.841263  1.600426  0.216198 -1.350019"
      ],
      "text/html": "<div>\n<style scoped>\n    .dataframe tbody tr th:only-of-type {\n        vertical-align: middle;\n    }\n\n    .dataframe tbody tr th {\n        vertical-align: top;\n    }\n\n    .dataframe thead th {\n        text-align: right;\n    }\n</style>\n<table border=\"1\" class=\"dataframe\">\n  <thead>\n    <tr style=\"text-align: right;\">\n      <th></th>\n      <th>a</th>\n      <th>b</th>\n      <th>c</th>\n      <th>d</th>\n    </tr>\n  </thead>\n  <tbody>\n    <tr>\n      <th>2021-01-02</th>\n      <td>1.909491</td>\n      <td>1.211720</td>\n      <td>0.247884</td>\n      <td>0.204224</td>\n    </tr>\n    <tr>\n      <th>2021-01-03</th>\n      <td>-1.048648</td>\n      <td>0.526206</td>\n      <td>0.071223</td>\n      <td>0.815333</td>\n    </tr>\n    <tr>\n      <th>2021-01-04</th>\n      <td>0.841263</td>\n      <td>1.600426</td>\n      <td>0.216198</td>\n      <td>-1.350019</td>\n    </tr>\n  </tbody>\n</table>\n</div>"
     },
     "metadata": {},
     "execution_count": 112
    }
   ],
   "source": [
    "df['20210102':'20210104']"
   ]
  },
  {
   "cell_type": "code",
   "execution_count": 113,
   "metadata": {},
   "outputs": [
    {
     "output_type": "execute_result",
     "data": {
      "text/plain": [
       "a   -1.547739\n",
       "b   -0.834650\n",
       "c    1.241576\n",
       "d   -1.251843\n",
       "Name: 2021-01-01 00:00:00, dtype: float64"
      ]
     },
     "metadata": {},
     "execution_count": 113
    }
   ],
   "source": [
    "df.loc[dates[0]]"
   ]
  },
  {
   "cell_type": "code",
   "execution_count": 114,
   "metadata": {},
   "outputs": [
    {
     "output_type": "execute_result",
     "data": {
      "text/plain": [
       "                   a         b\n",
       "2021-01-01 -1.547739 -0.834650\n",
       "2021-01-02  1.909491  1.211720\n",
       "2021-01-03 -1.048648  0.526206\n",
       "2021-01-04  0.841263  1.600426\n",
       "2021-01-05 -1.310075 -0.645534\n",
       "2021-01-06 -0.657368  1.122155"
      ],
      "text/html": "<div>\n<style scoped>\n    .dataframe tbody tr th:only-of-type {\n        vertical-align: middle;\n    }\n\n    .dataframe tbody tr th {\n        vertical-align: top;\n    }\n\n    .dataframe thead th {\n        text-align: right;\n    }\n</style>\n<table border=\"1\" class=\"dataframe\">\n  <thead>\n    <tr style=\"text-align: right;\">\n      <th></th>\n      <th>a</th>\n      <th>b</th>\n    </tr>\n  </thead>\n  <tbody>\n    <tr>\n      <th>2021-01-01</th>\n      <td>-1.547739</td>\n      <td>-0.834650</td>\n    </tr>\n    <tr>\n      <th>2021-01-02</th>\n      <td>1.909491</td>\n      <td>1.211720</td>\n    </tr>\n    <tr>\n      <th>2021-01-03</th>\n      <td>-1.048648</td>\n      <td>0.526206</td>\n    </tr>\n    <tr>\n      <th>2021-01-04</th>\n      <td>0.841263</td>\n      <td>1.600426</td>\n    </tr>\n    <tr>\n      <th>2021-01-05</th>\n      <td>-1.310075</td>\n      <td>-0.645534</td>\n    </tr>\n    <tr>\n      <th>2021-01-06</th>\n      <td>-0.657368</td>\n      <td>1.122155</td>\n    </tr>\n  </tbody>\n</table>\n</div>"
     },
     "metadata": {},
     "execution_count": 114
    }
   ],
   "source": [
    "df.loc[:,['a','b']]\n",
    "\n",
    "#access a group of rows and columns by label(s) or a boolean array in the given DataFrame."
   ]
  },
  {
   "cell_type": "code",
   "execution_count": 115,
   "metadata": {},
   "outputs": [
    {
     "output_type": "execute_result",
     "data": {
      "text/plain": [
       "                   a         b\n",
       "2021-01-02  1.909491  1.211720\n",
       "2021-01-03 -1.048648  0.526206\n",
       "2021-01-04  0.841263  1.600426"
      ],
      "text/html": "<div>\n<style scoped>\n    .dataframe tbody tr th:only-of-type {\n        vertical-align: middle;\n    }\n\n    .dataframe tbody tr th {\n        vertical-align: top;\n    }\n\n    .dataframe thead th {\n        text-align: right;\n    }\n</style>\n<table border=\"1\" class=\"dataframe\">\n  <thead>\n    <tr style=\"text-align: right;\">\n      <th></th>\n      <th>a</th>\n      <th>b</th>\n    </tr>\n  </thead>\n  <tbody>\n    <tr>\n      <th>2021-01-02</th>\n      <td>1.909491</td>\n      <td>1.211720</td>\n    </tr>\n    <tr>\n      <th>2021-01-03</th>\n      <td>-1.048648</td>\n      <td>0.526206</td>\n    </tr>\n    <tr>\n      <th>2021-01-04</th>\n      <td>0.841263</td>\n      <td>1.600426</td>\n    </tr>\n  </tbody>\n</table>\n</div>"
     },
     "metadata": {},
     "execution_count": 115
    }
   ],
   "source": [
    "df.loc['20210102':'20210104',['a','b']]"
   ]
  },
  {
   "cell_type": "code",
   "execution_count": 116,
   "metadata": {},
   "outputs": [
    {
     "output_type": "execute_result",
     "data": {
      "text/plain": [
       "a    1.909491\n",
       "b    1.211720\n",
       "Name: 2021-01-02 00:00:00, dtype: float64"
      ]
     },
     "metadata": {},
     "execution_count": 116
    }
   ],
   "source": [
    "df.loc['20210102',['a','b']]"
   ]
  },
  {
   "cell_type": "code",
   "execution_count": 117,
   "metadata": {},
   "outputs": [
    {
     "output_type": "execute_result",
     "data": {
      "text/plain": [
       "-1.5477389886092126"
      ]
     },
     "metadata": {},
     "execution_count": 117
    }
   ],
   "source": [
    "df.loc[dates[0],'a']"
   ]
  },
  {
   "cell_type": "code",
   "execution_count": 118,
   "metadata": {},
   "outputs": [
    {
     "output_type": "execute_result",
     "data": {
      "text/plain": [
       "a    0.841263\n",
       "b    1.600426\n",
       "c    0.216198\n",
       "d   -1.350019\n",
       "Name: 2021-01-04 00:00:00, dtype: float64"
      ]
     },
     "metadata": {},
     "execution_count": 118
    }
   ],
   "source": [
    "df.iloc[3]\n",
    "#shows row 3 data\n",
    "\n",
    "#Dataframe.iloc[] method is used when the index label of a data frame is something other than numeric series of 0, 1, 2, 3….n or in case the user doesn’t know the index label. Rows can be extracted using an imaginary index position which isn’t visible in the data frame."
   ]
  },
  {
   "cell_type": "code",
   "execution_count": 119,
   "metadata": {},
   "outputs": [
    {
     "output_type": "execute_result",
     "data": {
      "text/plain": [
       "                   a         b\n",
       "2021-01-04  0.841263  1.600426\n",
       "2021-01-05 -1.310075 -0.645534"
      ],
      "text/html": "<div>\n<style scoped>\n    .dataframe tbody tr th:only-of-type {\n        vertical-align: middle;\n    }\n\n    .dataframe tbody tr th {\n        vertical-align: top;\n    }\n\n    .dataframe thead th {\n        text-align: right;\n    }\n</style>\n<table border=\"1\" class=\"dataframe\">\n  <thead>\n    <tr style=\"text-align: right;\">\n      <th></th>\n      <th>a</th>\n      <th>b</th>\n    </tr>\n  </thead>\n  <tbody>\n    <tr>\n      <th>2021-01-04</th>\n      <td>0.841263</td>\n      <td>1.600426</td>\n    </tr>\n    <tr>\n      <th>2021-01-05</th>\n      <td>-1.310075</td>\n      <td>-0.645534</td>\n    </tr>\n  </tbody>\n</table>\n</div>"
     },
     "metadata": {},
     "execution_count": 119
    }
   ],
   "source": [
    " df.iloc[3:5,0:2]"
   ]
  },
  {
   "cell_type": "code",
   "execution_count": 120,
   "metadata": {},
   "outputs": [
    {
     "output_type": "execute_result",
     "data": {
      "text/plain": [
       "                   a         c\n",
       "2021-01-02  1.909491  0.247884\n",
       "2021-01-03 -1.048648  0.071223\n",
       "2021-01-05 -1.310075  0.192445"
      ],
      "text/html": "<div>\n<style scoped>\n    .dataframe tbody tr th:only-of-type {\n        vertical-align: middle;\n    }\n\n    .dataframe tbody tr th {\n        vertical-align: top;\n    }\n\n    .dataframe thead th {\n        text-align: right;\n    }\n</style>\n<table border=\"1\" class=\"dataframe\">\n  <thead>\n    <tr style=\"text-align: right;\">\n      <th></th>\n      <th>a</th>\n      <th>c</th>\n    </tr>\n  </thead>\n  <tbody>\n    <tr>\n      <th>2021-01-02</th>\n      <td>1.909491</td>\n      <td>0.247884</td>\n    </tr>\n    <tr>\n      <th>2021-01-03</th>\n      <td>-1.048648</td>\n      <td>0.071223</td>\n    </tr>\n    <tr>\n      <th>2021-01-05</th>\n      <td>-1.310075</td>\n      <td>0.192445</td>\n    </tr>\n  </tbody>\n</table>\n</div>"
     },
     "metadata": {},
     "execution_count": 120
    }
   ],
   "source": [
    "df.iloc[[1,2,4],[0,2]]"
   ]
  },
  {
   "cell_type": "code",
   "execution_count": 121,
   "metadata": {},
   "outputs": [
    {
     "output_type": "execute_result",
     "data": {
      "text/plain": [
       "                   b         c\n",
       "2021-01-01 -0.834650  1.241576\n",
       "2021-01-02  1.211720  0.247884\n",
       "2021-01-03  0.526206  0.071223\n",
       "2021-01-04  1.600426  0.216198\n",
       "2021-01-05 -0.645534  0.192445\n",
       "2021-01-06  1.122155  1.742567"
      ],
      "text/html": "<div>\n<style scoped>\n    .dataframe tbody tr th:only-of-type {\n        vertical-align: middle;\n    }\n\n    .dataframe tbody tr th {\n        vertical-align: top;\n    }\n\n    .dataframe thead th {\n        text-align: right;\n    }\n</style>\n<table border=\"1\" class=\"dataframe\">\n  <thead>\n    <tr style=\"text-align: right;\">\n      <th></th>\n      <th>b</th>\n      <th>c</th>\n    </tr>\n  </thead>\n  <tbody>\n    <tr>\n      <th>2021-01-01</th>\n      <td>-0.834650</td>\n      <td>1.241576</td>\n    </tr>\n    <tr>\n      <th>2021-01-02</th>\n      <td>1.211720</td>\n      <td>0.247884</td>\n    </tr>\n    <tr>\n      <th>2021-01-03</th>\n      <td>0.526206</td>\n      <td>0.071223</td>\n    </tr>\n    <tr>\n      <th>2021-01-04</th>\n      <td>1.600426</td>\n      <td>0.216198</td>\n    </tr>\n    <tr>\n      <th>2021-01-05</th>\n      <td>-0.645534</td>\n      <td>0.192445</td>\n    </tr>\n    <tr>\n      <th>2021-01-06</th>\n      <td>1.122155</td>\n      <td>1.742567</td>\n    </tr>\n  </tbody>\n</table>\n</div>"
     },
     "metadata": {},
     "execution_count": 121
    }
   ],
   "source": [
    "df.iloc[:,1:3]"
   ]
  },
  {
   "cell_type": "code",
   "execution_count": 122,
   "metadata": {},
   "outputs": [
    {
     "output_type": "execute_result",
     "data": {
      "text/plain": [
       "1.2117204386053548"
      ]
     },
     "metadata": {},
     "execution_count": 122
    }
   ],
   "source": [
    "df.iloc[1,1]"
   ]
  },
  {
   "cell_type": "code",
   "execution_count": 123,
   "metadata": {},
   "outputs": [
    {
     "output_type": "execute_result",
     "data": {
      "text/plain": [
       "                   a         b         c         d\n",
       "2021-01-02  1.909491  1.211720  0.247884  0.204224\n",
       "2021-01-04  0.841263  1.600426  0.216198 -1.350019"
      ],
      "text/html": "<div>\n<style scoped>\n    .dataframe tbody tr th:only-of-type {\n        vertical-align: middle;\n    }\n\n    .dataframe tbody tr th {\n        vertical-align: top;\n    }\n\n    .dataframe thead th {\n        text-align: right;\n    }\n</style>\n<table border=\"1\" class=\"dataframe\">\n  <thead>\n    <tr style=\"text-align: right;\">\n      <th></th>\n      <th>a</th>\n      <th>b</th>\n      <th>c</th>\n      <th>d</th>\n    </tr>\n  </thead>\n  <tbody>\n    <tr>\n      <th>2021-01-02</th>\n      <td>1.909491</td>\n      <td>1.211720</td>\n      <td>0.247884</td>\n      <td>0.204224</td>\n    </tr>\n    <tr>\n      <th>2021-01-04</th>\n      <td>0.841263</td>\n      <td>1.600426</td>\n      <td>0.216198</td>\n      <td>-1.350019</td>\n    </tr>\n  </tbody>\n</table>\n</div>"
     },
     "metadata": {},
     "execution_count": 123
    }
   ],
   "source": [
    "df[df.a>0]"
   ]
  },
  {
   "cell_type": "code",
   "execution_count": 124,
   "metadata": {},
   "outputs": [
    {
     "output_type": "execute_result",
     "data": {
      "text/plain": [
       "                   a         b         c         d\n",
       "2021-01-01 -1.547739 -0.834650  1.241576 -1.251843\n",
       "2021-01-02  1.909491  1.211720  0.247884  0.204224\n",
       "2021-01-03 -1.048648  0.526206  0.071223  0.815333\n",
       "2021-01-04  0.841263  1.600426  0.216198 -1.350019\n",
       "2021-01-05 -1.310075 -0.645534  0.192445 -0.217712\n",
       "2021-01-06 -0.657368  1.122155  1.742567 -0.102834"
      ],
      "text/html": "<div>\n<style scoped>\n    .dataframe tbody tr th:only-of-type {\n        vertical-align: middle;\n    }\n\n    .dataframe tbody tr th {\n        vertical-align: top;\n    }\n\n    .dataframe thead th {\n        text-align: right;\n    }\n</style>\n<table border=\"1\" class=\"dataframe\">\n  <thead>\n    <tr style=\"text-align: right;\">\n      <th></th>\n      <th>a</th>\n      <th>b</th>\n      <th>c</th>\n      <th>d</th>\n    </tr>\n  </thead>\n  <tbody>\n    <tr>\n      <th>2021-01-01</th>\n      <td>-1.547739</td>\n      <td>-0.834650</td>\n      <td>1.241576</td>\n      <td>-1.251843</td>\n    </tr>\n    <tr>\n      <th>2021-01-02</th>\n      <td>1.909491</td>\n      <td>1.211720</td>\n      <td>0.247884</td>\n      <td>0.204224</td>\n    </tr>\n    <tr>\n      <th>2021-01-03</th>\n      <td>-1.048648</td>\n      <td>0.526206</td>\n      <td>0.071223</td>\n      <td>0.815333</td>\n    </tr>\n    <tr>\n      <th>2021-01-04</th>\n      <td>0.841263</td>\n      <td>1.600426</td>\n      <td>0.216198</td>\n      <td>-1.350019</td>\n    </tr>\n    <tr>\n      <th>2021-01-05</th>\n      <td>-1.310075</td>\n      <td>-0.645534</td>\n      <td>0.192445</td>\n      <td>-0.217712</td>\n    </tr>\n    <tr>\n      <th>2021-01-06</th>\n      <td>-0.657368</td>\n      <td>1.122155</td>\n      <td>1.742567</td>\n      <td>-0.102834</td>\n    </tr>\n  </tbody>\n</table>\n</div>"
     },
     "metadata": {},
     "execution_count": 124
    }
   ],
   "source": [
    "df[df.c>0]"
   ]
  },
  {
   "cell_type": "code",
   "execution_count": 125,
   "metadata": {},
   "outputs": [],
   "source": [
    "df2=df.copy()"
   ]
  },
  {
   "cell_type": "code",
   "execution_count": 126,
   "metadata": {},
   "outputs": [
    {
     "output_type": "execute_result",
     "data": {
      "text/plain": [
       "                   a         b         c         d\n",
       "2021-01-01 -1.547739 -0.834650  1.241576 -1.251843\n",
       "2021-01-02  1.909491  1.211720  0.247884  0.204224\n",
       "2021-01-03 -1.048648  0.526206  0.071223  0.815333\n",
       "2021-01-04  0.841263  1.600426  0.216198 -1.350019\n",
       "2021-01-05 -1.310075 -0.645534  0.192445 -0.217712\n",
       "2021-01-06 -0.657368  1.122155  1.742567 -0.102834"
      ],
      "text/html": "<div>\n<style scoped>\n    .dataframe tbody tr th:only-of-type {\n        vertical-align: middle;\n    }\n\n    .dataframe tbody tr th {\n        vertical-align: top;\n    }\n\n    .dataframe thead th {\n        text-align: right;\n    }\n</style>\n<table border=\"1\" class=\"dataframe\">\n  <thead>\n    <tr style=\"text-align: right;\">\n      <th></th>\n      <th>a</th>\n      <th>b</th>\n      <th>c</th>\n      <th>d</th>\n    </tr>\n  </thead>\n  <tbody>\n    <tr>\n      <th>2021-01-01</th>\n      <td>-1.547739</td>\n      <td>-0.834650</td>\n      <td>1.241576</td>\n      <td>-1.251843</td>\n    </tr>\n    <tr>\n      <th>2021-01-02</th>\n      <td>1.909491</td>\n      <td>1.211720</td>\n      <td>0.247884</td>\n      <td>0.204224</td>\n    </tr>\n    <tr>\n      <th>2021-01-03</th>\n      <td>-1.048648</td>\n      <td>0.526206</td>\n      <td>0.071223</td>\n      <td>0.815333</td>\n    </tr>\n    <tr>\n      <th>2021-01-04</th>\n      <td>0.841263</td>\n      <td>1.600426</td>\n      <td>0.216198</td>\n      <td>-1.350019</td>\n    </tr>\n    <tr>\n      <th>2021-01-05</th>\n      <td>-1.310075</td>\n      <td>-0.645534</td>\n      <td>0.192445</td>\n      <td>-0.217712</td>\n    </tr>\n    <tr>\n      <th>2021-01-06</th>\n      <td>-0.657368</td>\n      <td>1.122155</td>\n      <td>1.742567</td>\n      <td>-0.102834</td>\n    </tr>\n  </tbody>\n</table>\n</div>"
     },
     "metadata": {},
     "execution_count": 126
    }
   ],
   "source": [
    "df2"
   ]
  },
  {
   "cell_type": "code",
   "execution_count": 127,
   "metadata": {},
   "outputs": [
    {
     "output_type": "execute_result",
     "data": {
      "text/plain": [
       "                   a         b         c         d\n",
       "2021-01-01 -1.547739 -0.834650  1.241576 -1.251843\n",
       "2021-01-02  1.909491  1.211720  0.247884  0.204224\n",
       "2021-01-03 -1.048648  0.526206  0.071223  0.815333\n",
       "2021-01-04  0.841263  1.600426  0.216198 -1.350019\n",
       "2021-01-05 -1.310075 -0.645534  0.192445 -0.217712\n",
       "2021-01-06 -0.657368  1.122155  1.742567 -0.102834"
      ],
      "text/html": "<div>\n<style scoped>\n    .dataframe tbody tr th:only-of-type {\n        vertical-align: middle;\n    }\n\n    .dataframe tbody tr th {\n        vertical-align: top;\n    }\n\n    .dataframe thead th {\n        text-align: right;\n    }\n</style>\n<table border=\"1\" class=\"dataframe\">\n  <thead>\n    <tr style=\"text-align: right;\">\n      <th></th>\n      <th>a</th>\n      <th>b</th>\n      <th>c</th>\n      <th>d</th>\n    </tr>\n  </thead>\n  <tbody>\n    <tr>\n      <th>2021-01-01</th>\n      <td>-1.547739</td>\n      <td>-0.834650</td>\n      <td>1.241576</td>\n      <td>-1.251843</td>\n    </tr>\n    <tr>\n      <th>2021-01-02</th>\n      <td>1.909491</td>\n      <td>1.211720</td>\n      <td>0.247884</td>\n      <td>0.204224</td>\n    </tr>\n    <tr>\n      <th>2021-01-03</th>\n      <td>-1.048648</td>\n      <td>0.526206</td>\n      <td>0.071223</td>\n      <td>0.815333</td>\n    </tr>\n    <tr>\n      <th>2021-01-04</th>\n      <td>0.841263</td>\n      <td>1.600426</td>\n      <td>0.216198</td>\n      <td>-1.350019</td>\n    </tr>\n    <tr>\n      <th>2021-01-05</th>\n      <td>-1.310075</td>\n      <td>-0.645534</td>\n      <td>0.192445</td>\n      <td>-0.217712</td>\n    </tr>\n    <tr>\n      <th>2021-01-06</th>\n      <td>-0.657368</td>\n      <td>1.122155</td>\n      <td>1.742567</td>\n      <td>-0.102834</td>\n    </tr>\n  </tbody>\n</table>\n</div>"
     },
     "metadata": {},
     "execution_count": 127
    }
   ],
   "source": [
    "df3=df\n",
    "df3"
   ]
  },
  {
   "cell_type": "code",
   "execution_count": 128,
   "metadata": {},
   "outputs": [],
   "source": [
    "df2['e']=['one','one','two','three','four','three']"
   ]
  },
  {
   "cell_type": "code",
   "execution_count": 129,
   "metadata": {},
   "outputs": [
    {
     "output_type": "execute_result",
     "data": {
      "text/plain": [
       "                   a         b         c         d      e\n",
       "2021-01-01 -1.547739 -0.834650  1.241576 -1.251843    one\n",
       "2021-01-02  1.909491  1.211720  0.247884  0.204224    one\n",
       "2021-01-03 -1.048648  0.526206  0.071223  0.815333    two\n",
       "2021-01-04  0.841263  1.600426  0.216198 -1.350019  three\n",
       "2021-01-05 -1.310075 -0.645534  0.192445 -0.217712   four\n",
       "2021-01-06 -0.657368  1.122155  1.742567 -0.102834  three"
      ],
      "text/html": "<div>\n<style scoped>\n    .dataframe tbody tr th:only-of-type {\n        vertical-align: middle;\n    }\n\n    .dataframe tbody tr th {\n        vertical-align: top;\n    }\n\n    .dataframe thead th {\n        text-align: right;\n    }\n</style>\n<table border=\"1\" class=\"dataframe\">\n  <thead>\n    <tr style=\"text-align: right;\">\n      <th></th>\n      <th>a</th>\n      <th>b</th>\n      <th>c</th>\n      <th>d</th>\n      <th>e</th>\n    </tr>\n  </thead>\n  <tbody>\n    <tr>\n      <th>2021-01-01</th>\n      <td>-1.547739</td>\n      <td>-0.834650</td>\n      <td>1.241576</td>\n      <td>-1.251843</td>\n      <td>one</td>\n    </tr>\n    <tr>\n      <th>2021-01-02</th>\n      <td>1.909491</td>\n      <td>1.211720</td>\n      <td>0.247884</td>\n      <td>0.204224</td>\n      <td>one</td>\n    </tr>\n    <tr>\n      <th>2021-01-03</th>\n      <td>-1.048648</td>\n      <td>0.526206</td>\n      <td>0.071223</td>\n      <td>0.815333</td>\n      <td>two</td>\n    </tr>\n    <tr>\n      <th>2021-01-04</th>\n      <td>0.841263</td>\n      <td>1.600426</td>\n      <td>0.216198</td>\n      <td>-1.350019</td>\n      <td>three</td>\n    </tr>\n    <tr>\n      <th>2021-01-05</th>\n      <td>-1.310075</td>\n      <td>-0.645534</td>\n      <td>0.192445</td>\n      <td>-0.217712</td>\n      <td>four</td>\n    </tr>\n    <tr>\n      <th>2021-01-06</th>\n      <td>-0.657368</td>\n      <td>1.122155</td>\n      <td>1.742567</td>\n      <td>-0.102834</td>\n      <td>three</td>\n    </tr>\n  </tbody>\n</table>\n</div>"
     },
     "metadata": {},
     "execution_count": 129
    }
   ],
   "source": [
    "df2"
   ]
  },
  {
   "cell_type": "code",
   "execution_count": 130,
   "metadata": {},
   "outputs": [
    {
     "output_type": "execute_result",
     "data": {
      "text/plain": [
       "                   a         b         c         d     e\n",
       "2021-01-03 -1.048648  0.526206  0.071223  0.815333   two\n",
       "2021-01-05 -1.310075 -0.645534  0.192445 -0.217712  four"
      ],
      "text/html": "<div>\n<style scoped>\n    .dataframe tbody tr th:only-of-type {\n        vertical-align: middle;\n    }\n\n    .dataframe tbody tr th {\n        vertical-align: top;\n    }\n\n    .dataframe thead th {\n        text-align: right;\n    }\n</style>\n<table border=\"1\" class=\"dataframe\">\n  <thead>\n    <tr style=\"text-align: right;\">\n      <th></th>\n      <th>a</th>\n      <th>b</th>\n      <th>c</th>\n      <th>d</th>\n      <th>e</th>\n    </tr>\n  </thead>\n  <tbody>\n    <tr>\n      <th>2021-01-03</th>\n      <td>-1.048648</td>\n      <td>0.526206</td>\n      <td>0.071223</td>\n      <td>0.815333</td>\n      <td>two</td>\n    </tr>\n    <tr>\n      <th>2021-01-05</th>\n      <td>-1.310075</td>\n      <td>-0.645534</td>\n      <td>0.192445</td>\n      <td>-0.217712</td>\n      <td>four</td>\n    </tr>\n  </tbody>\n</table>\n</div>"
     },
     "metadata": {},
     "execution_count": 130
    }
   ],
   "source": [
    "df2[df2['e'].isin(['two','four'])]\n",
    "\n",
    "#Pandas isin() method is used to filter data frames. isin() method helps in selecting rows with having a particular(or Multiple) value in a particular column"
   ]
  },
  {
   "cell_type": "code",
   "execution_count": 131,
   "metadata": {},
   "outputs": [
    {
     "output_type": "execute_result",
     "data": {
      "text/plain": [
       "2021-01-02    1\n",
       "2021-01-03    2\n",
       "2021-01-04    3\n",
       "2021-01-05    4\n",
       "2021-01-06    5\n",
       "2021-01-07    6\n",
       "Freq: D, dtype: int64"
      ]
     },
     "metadata": {},
     "execution_count": 131
    }
   ],
   "source": [
    "s1=pd.Series([1,2,3,4,5,6],index=pd.date_range('20210102',periods=6))\n",
    "s1"
   ]
  },
  {
   "cell_type": "code",
   "execution_count": 134,
   "metadata": {},
   "outputs": [],
   "source": [
    "df['f']=s1\n",
    "\n",
    "#assigning values of s1 to df's f column"
   ]
  },
  {
   "cell_type": "code",
   "execution_count": 146,
   "metadata": {},
   "outputs": [
    {
     "output_type": "execute_result",
     "data": {
      "text/plain": [
       "                   a         b         c         d    f\n",
       "2021-01-01  0.192445  0.000000  1.241576 -1.251843  0.0\n",
       "2021-01-02  1.909491  1.211720  0.247884  0.204224  1.0\n",
       "2021-01-03 -1.048648  0.526206  0.071223  0.815333  2.0\n",
       "2021-01-04  0.841263  1.600426  0.216198 -1.350019  3.0\n",
       "2021-01-05 -1.310075 -0.645534  0.192445 -0.217712  4.0\n",
       "2021-01-06 -0.657368  1.122155  1.742567 -0.102834  5.0"
      ],
      "text/html": "<div>\n<style scoped>\n    .dataframe tbody tr th:only-of-type {\n        vertical-align: middle;\n    }\n\n    .dataframe tbody tr th {\n        vertical-align: top;\n    }\n\n    .dataframe thead th {\n        text-align: right;\n    }\n</style>\n<table border=\"1\" class=\"dataframe\">\n  <thead>\n    <tr style=\"text-align: right;\">\n      <th></th>\n      <th>a</th>\n      <th>b</th>\n      <th>c</th>\n      <th>d</th>\n      <th>f</th>\n    </tr>\n  </thead>\n  <tbody>\n    <tr>\n      <th>2021-01-01</th>\n      <td>0.192445</td>\n      <td>0.000000</td>\n      <td>1.241576</td>\n      <td>-1.251843</td>\n      <td>0.0</td>\n    </tr>\n    <tr>\n      <th>2021-01-02</th>\n      <td>1.909491</td>\n      <td>1.211720</td>\n      <td>0.247884</td>\n      <td>0.204224</td>\n      <td>1.0</td>\n    </tr>\n    <tr>\n      <th>2021-01-03</th>\n      <td>-1.048648</td>\n      <td>0.526206</td>\n      <td>0.071223</td>\n      <td>0.815333</td>\n      <td>2.0</td>\n    </tr>\n    <tr>\n      <th>2021-01-04</th>\n      <td>0.841263</td>\n      <td>1.600426</td>\n      <td>0.216198</td>\n      <td>-1.350019</td>\n      <td>3.0</td>\n    </tr>\n    <tr>\n      <th>2021-01-05</th>\n      <td>-1.310075</td>\n      <td>-0.645534</td>\n      <td>0.192445</td>\n      <td>-0.217712</td>\n      <td>4.0</td>\n    </tr>\n    <tr>\n      <th>2021-01-06</th>\n      <td>-0.657368</td>\n      <td>1.122155</td>\n      <td>1.742567</td>\n      <td>-0.102834</td>\n      <td>5.0</td>\n    </tr>\n  </tbody>\n</table>\n</div>"
     },
     "metadata": {},
     "execution_count": 146
    }
   ],
   "source": [
    "df"
   ]
  },
  {
   "cell_type": "code",
   "execution_count": 147,
   "metadata": {},
   "outputs": [],
   "source": [
    "df.at[dates[0],'f']=0\n",
    "\n",
    "#at[] is used to return data in a dataframe at passed location. The passed location is in the format [poition, Column Name]. This method works in a similar way to Pandas loc[ ] but at[ ] is used to return only single value and hence works faster than it."
   ]
  },
  {
   "cell_type": "code",
   "execution_count": 148,
   "metadata": {},
   "outputs": [
    {
     "output_type": "execute_result",
     "data": {
      "text/plain": [
       "                   a         b         c         d    f\n",
       "2021-01-01  0.192445  0.000000  1.241576 -1.251843  0.0\n",
       "2021-01-02  1.909491  1.211720  0.247884  0.204224  1.0\n",
       "2021-01-03 -1.048648  0.526206  0.071223  0.815333  2.0\n",
       "2021-01-04  0.841263  1.600426  0.216198 -1.350019  3.0\n",
       "2021-01-05 -1.310075 -0.645534  0.192445 -0.217712  4.0\n",
       "2021-01-06 -0.657368  1.122155  1.742567 -0.102834  5.0"
      ],
      "text/html": "<div>\n<style scoped>\n    .dataframe tbody tr th:only-of-type {\n        vertical-align: middle;\n    }\n\n    .dataframe tbody tr th {\n        vertical-align: top;\n    }\n\n    .dataframe thead th {\n        text-align: right;\n    }\n</style>\n<table border=\"1\" class=\"dataframe\">\n  <thead>\n    <tr style=\"text-align: right;\">\n      <th></th>\n      <th>a</th>\n      <th>b</th>\n      <th>c</th>\n      <th>d</th>\n      <th>f</th>\n    </tr>\n  </thead>\n  <tbody>\n    <tr>\n      <th>2021-01-01</th>\n      <td>0.192445</td>\n      <td>0.000000</td>\n      <td>1.241576</td>\n      <td>-1.251843</td>\n      <td>0.0</td>\n    </tr>\n    <tr>\n      <th>2021-01-02</th>\n      <td>1.909491</td>\n      <td>1.211720</td>\n      <td>0.247884</td>\n      <td>0.204224</td>\n      <td>1.0</td>\n    </tr>\n    <tr>\n      <th>2021-01-03</th>\n      <td>-1.048648</td>\n      <td>0.526206</td>\n      <td>0.071223</td>\n      <td>0.815333</td>\n      <td>2.0</td>\n    </tr>\n    <tr>\n      <th>2021-01-04</th>\n      <td>0.841263</td>\n      <td>1.600426</td>\n      <td>0.216198</td>\n      <td>-1.350019</td>\n      <td>3.0</td>\n    </tr>\n    <tr>\n      <th>2021-01-05</th>\n      <td>-1.310075</td>\n      <td>-0.645534</td>\n      <td>0.192445</td>\n      <td>-0.217712</td>\n      <td>4.0</td>\n    </tr>\n    <tr>\n      <th>2021-01-06</th>\n      <td>-0.657368</td>\n      <td>1.122155</td>\n      <td>1.742567</td>\n      <td>-0.102834</td>\n      <td>5.0</td>\n    </tr>\n  </tbody>\n</table>\n</div>"
     },
     "metadata": {},
     "execution_count": 148
    }
   ],
   "source": [
    "df"
   ]
  },
  {
   "cell_type": "code",
   "execution_count": 149,
   "metadata": {},
   "outputs": [
    {
     "output_type": "execute_result",
     "data": {
      "text/plain": [
       "                   a         b         c         d    f\n",
       "2021-01-01  0.192445  0.000000  1.241576 -1.251843  0.0\n",
       "2021-01-02  1.909491  1.211720  0.247884  0.204224  1.0\n",
       "2021-01-03 -1.048648  0.526206  0.071223  0.815333  2.0\n",
       "2021-01-04  0.841263  1.600426  0.216198 -1.350019  3.0\n",
       "2021-01-05 -1.310075 -0.645534  0.192445 -0.217712  4.0\n",
       "2021-01-06 -0.657368  1.122155  1.742567 -0.102834  5.0"
      ],
      "text/html": "<div>\n<style scoped>\n    .dataframe tbody tr th:only-of-type {\n        vertical-align: middle;\n    }\n\n    .dataframe tbody tr th {\n        vertical-align: top;\n    }\n\n    .dataframe thead th {\n        text-align: right;\n    }\n</style>\n<table border=\"1\" class=\"dataframe\">\n  <thead>\n    <tr style=\"text-align: right;\">\n      <th></th>\n      <th>a</th>\n      <th>b</th>\n      <th>c</th>\n      <th>d</th>\n      <th>f</th>\n    </tr>\n  </thead>\n  <tbody>\n    <tr>\n      <th>2021-01-01</th>\n      <td>0.192445</td>\n      <td>0.000000</td>\n      <td>1.241576</td>\n      <td>-1.251843</td>\n      <td>0.0</td>\n    </tr>\n    <tr>\n      <th>2021-01-02</th>\n      <td>1.909491</td>\n      <td>1.211720</td>\n      <td>0.247884</td>\n      <td>0.204224</td>\n      <td>1.0</td>\n    </tr>\n    <tr>\n      <th>2021-01-03</th>\n      <td>-1.048648</td>\n      <td>0.526206</td>\n      <td>0.071223</td>\n      <td>0.815333</td>\n      <td>2.0</td>\n    </tr>\n    <tr>\n      <th>2021-01-04</th>\n      <td>0.841263</td>\n      <td>1.600426</td>\n      <td>0.216198</td>\n      <td>-1.350019</td>\n      <td>3.0</td>\n    </tr>\n    <tr>\n      <th>2021-01-05</th>\n      <td>-1.310075</td>\n      <td>-0.645534</td>\n      <td>0.192445</td>\n      <td>-0.217712</td>\n      <td>4.0</td>\n    </tr>\n    <tr>\n      <th>2021-01-06</th>\n      <td>-0.657368</td>\n      <td>1.122155</td>\n      <td>1.742567</td>\n      <td>-0.102834</td>\n      <td>5.0</td>\n    </tr>\n  </tbody>\n</table>\n</div>"
     },
     "metadata": {},
     "execution_count": 149
    }
   ],
   "source": [
    "df.iat[0,1]=0\n",
    "df"
   ]
  },
  {
   "cell_type": "code",
   "execution_count": 150,
   "metadata": {},
   "outputs": [
    {
     "output_type": "execute_result",
     "data": {
      "text/plain": [
       "                   a         b         c  d    f\n",
       "2021-01-01  0.192445  0.000000  1.241576  5  0.0\n",
       "2021-01-02  1.909491  1.211720  0.247884  5  1.0\n",
       "2021-01-03 -1.048648  0.526206  0.071223  5  2.0\n",
       "2021-01-04  0.841263  1.600426  0.216198  5  3.0\n",
       "2021-01-05 -1.310075 -0.645534  0.192445  5  4.0\n",
       "2021-01-06 -0.657368  1.122155  1.742567  5  5.0"
      ],
      "text/html": "<div>\n<style scoped>\n    .dataframe tbody tr th:only-of-type {\n        vertical-align: middle;\n    }\n\n    .dataframe tbody tr th {\n        vertical-align: top;\n    }\n\n    .dataframe thead th {\n        text-align: right;\n    }\n</style>\n<table border=\"1\" class=\"dataframe\">\n  <thead>\n    <tr style=\"text-align: right;\">\n      <th></th>\n      <th>a</th>\n      <th>b</th>\n      <th>c</th>\n      <th>d</th>\n      <th>f</th>\n    </tr>\n  </thead>\n  <tbody>\n    <tr>\n      <th>2021-01-01</th>\n      <td>0.192445</td>\n      <td>0.000000</td>\n      <td>1.241576</td>\n      <td>5</td>\n      <td>0.0</td>\n    </tr>\n    <tr>\n      <th>2021-01-02</th>\n      <td>1.909491</td>\n      <td>1.211720</td>\n      <td>0.247884</td>\n      <td>5</td>\n      <td>1.0</td>\n    </tr>\n    <tr>\n      <th>2021-01-03</th>\n      <td>-1.048648</td>\n      <td>0.526206</td>\n      <td>0.071223</td>\n      <td>5</td>\n      <td>2.0</td>\n    </tr>\n    <tr>\n      <th>2021-01-04</th>\n      <td>0.841263</td>\n      <td>1.600426</td>\n      <td>0.216198</td>\n      <td>5</td>\n      <td>3.0</td>\n    </tr>\n    <tr>\n      <th>2021-01-05</th>\n      <td>-1.310075</td>\n      <td>-0.645534</td>\n      <td>0.192445</td>\n      <td>5</td>\n      <td>4.0</td>\n    </tr>\n    <tr>\n      <th>2021-01-06</th>\n      <td>-0.657368</td>\n      <td>1.122155</td>\n      <td>1.742567</td>\n      <td>5</td>\n      <td>5.0</td>\n    </tr>\n  </tbody>\n</table>\n</div>"
     },
     "metadata": {},
     "execution_count": 150
    }
   ],
   "source": [
    "df.loc[:,'d']=np.array([5]*len(df))\n",
    "df"
   ]
  },
  {
   "cell_type": "code",
   "execution_count": 66,
   "metadata": {},
   "outputs": [],
   "source": [
    "df1=df.reindex(index=dates[0:4],columns=list(df.columns)+['E'])"
   ]
  },
  {
   "cell_type": "code",
   "execution_count": 67,
   "metadata": {},
   "outputs": [
    {
     "output_type": "execute_result",
     "data": {
      "text/plain": [
       "                   a         b         c  d    f   E\n",
       "2021-01-01 -0.740006  0.000000 -0.522981  5  0.0 NaN\n",
       "2021-01-02  0.020446  1.018860  0.138124  5  1.0 NaN\n",
       "2021-01-03  0.644938  0.581051 -0.893889  5  2.0 NaN\n",
       "2021-01-04 -2.243623  1.110973 -1.556672  5  3.0 NaN"
      ],
      "text/html": "<div>\n<style scoped>\n    .dataframe tbody tr th:only-of-type {\n        vertical-align: middle;\n    }\n\n    .dataframe tbody tr th {\n        vertical-align: top;\n    }\n\n    .dataframe thead th {\n        text-align: right;\n    }\n</style>\n<table border=\"1\" class=\"dataframe\">\n  <thead>\n    <tr style=\"text-align: right;\">\n      <th></th>\n      <th>a</th>\n      <th>b</th>\n      <th>c</th>\n      <th>d</th>\n      <th>f</th>\n      <th>E</th>\n    </tr>\n  </thead>\n  <tbody>\n    <tr>\n      <th>2021-01-01</th>\n      <td>-0.740006</td>\n      <td>0.000000</td>\n      <td>-0.522981</td>\n      <td>5</td>\n      <td>0.0</td>\n      <td>NaN</td>\n    </tr>\n    <tr>\n      <th>2021-01-02</th>\n      <td>0.020446</td>\n      <td>1.018860</td>\n      <td>0.138124</td>\n      <td>5</td>\n      <td>1.0</td>\n      <td>NaN</td>\n    </tr>\n    <tr>\n      <th>2021-01-03</th>\n      <td>0.644938</td>\n      <td>0.581051</td>\n      <td>-0.893889</td>\n      <td>5</td>\n      <td>2.0</td>\n      <td>NaN</td>\n    </tr>\n    <tr>\n      <th>2021-01-04</th>\n      <td>-2.243623</td>\n      <td>1.110973</td>\n      <td>-1.556672</td>\n      <td>5</td>\n      <td>3.0</td>\n      <td>NaN</td>\n    </tr>\n  </tbody>\n</table>\n</div>"
     },
     "metadata": {},
     "execution_count": 67
    }
   ],
   "source": [
    "df1"
   ]
  },
  {
   "cell_type": "code",
   "execution_count": 68,
   "metadata": {},
   "outputs": [
    {
     "output_type": "execute_result",
     "data": {
      "text/plain": [
       "                   a         b         c  d    f    E\n",
       "2021-01-01 -0.740006  0.000000 -0.522981  5  0.0  1.0\n",
       "2021-01-02  0.020446  1.018860  0.138124  5  1.0  1.0\n",
       "2021-01-03  0.644938  0.581051 -0.893889  5  2.0  NaN\n",
       "2021-01-04 -2.243623  1.110973 -1.556672  5  3.0  NaN"
      ],
      "text/html": "<div>\n<style scoped>\n    .dataframe tbody tr th:only-of-type {\n        vertical-align: middle;\n    }\n\n    .dataframe tbody tr th {\n        vertical-align: top;\n    }\n\n    .dataframe thead th {\n        text-align: right;\n    }\n</style>\n<table border=\"1\" class=\"dataframe\">\n  <thead>\n    <tr style=\"text-align: right;\">\n      <th></th>\n      <th>a</th>\n      <th>b</th>\n      <th>c</th>\n      <th>d</th>\n      <th>f</th>\n      <th>E</th>\n    </tr>\n  </thead>\n  <tbody>\n    <tr>\n      <th>2021-01-01</th>\n      <td>-0.740006</td>\n      <td>0.000000</td>\n      <td>-0.522981</td>\n      <td>5</td>\n      <td>0.0</td>\n      <td>1.0</td>\n    </tr>\n    <tr>\n      <th>2021-01-02</th>\n      <td>0.020446</td>\n      <td>1.018860</td>\n      <td>0.138124</td>\n      <td>5</td>\n      <td>1.0</td>\n      <td>1.0</td>\n    </tr>\n    <tr>\n      <th>2021-01-03</th>\n      <td>0.644938</td>\n      <td>0.581051</td>\n      <td>-0.893889</td>\n      <td>5</td>\n      <td>2.0</td>\n      <td>NaN</td>\n    </tr>\n    <tr>\n      <th>2021-01-04</th>\n      <td>-2.243623</td>\n      <td>1.110973</td>\n      <td>-1.556672</td>\n      <td>5</td>\n      <td>3.0</td>\n      <td>NaN</td>\n    </tr>\n  </tbody>\n</table>\n</div>"
     },
     "metadata": {},
     "execution_count": 68
    }
   ],
   "source": [
    "df1.loc[dates[0]:dates[1],'E']=1\n",
    "df1"
   ]
  },
  {
   "cell_type": "code",
   "execution_count": 69,
   "metadata": {},
   "outputs": [
    {
     "output_type": "execute_result",
     "data": {
      "text/plain": [
       "                   a        b         c  d    f    E\n",
       "2021-01-01 -0.740006  0.00000 -0.522981  5  0.0  1.0\n",
       "2021-01-02  0.020446  1.01886  0.138124  5  1.0  1.0"
      ],
      "text/html": "<div>\n<style scoped>\n    .dataframe tbody tr th:only-of-type {\n        vertical-align: middle;\n    }\n\n    .dataframe tbody tr th {\n        vertical-align: top;\n    }\n\n    .dataframe thead th {\n        text-align: right;\n    }\n</style>\n<table border=\"1\" class=\"dataframe\">\n  <thead>\n    <tr style=\"text-align: right;\">\n      <th></th>\n      <th>a</th>\n      <th>b</th>\n      <th>c</th>\n      <th>d</th>\n      <th>f</th>\n      <th>E</th>\n    </tr>\n  </thead>\n  <tbody>\n    <tr>\n      <th>2021-01-01</th>\n      <td>-0.740006</td>\n      <td>0.00000</td>\n      <td>-0.522981</td>\n      <td>5</td>\n      <td>0.0</td>\n      <td>1.0</td>\n    </tr>\n    <tr>\n      <th>2021-01-02</th>\n      <td>0.020446</td>\n      <td>1.01886</td>\n      <td>0.138124</td>\n      <td>5</td>\n      <td>1.0</td>\n      <td>1.0</td>\n    </tr>\n  </tbody>\n</table>\n</div>"
     },
     "metadata": {},
     "execution_count": 69
    }
   ],
   "source": [
    "df1.dropna(how='any')"
   ]
  },
  {
   "cell_type": "code",
   "execution_count": 70,
   "metadata": {},
   "outputs": [
    {
     "output_type": "execute_result",
     "data": {
      "text/plain": [
       "                   a         b         c  d    f    E\n",
       "2021-01-01 -0.740006  0.000000 -0.522981  5  0.0  1.0\n",
       "2021-01-02  0.020446  1.018860  0.138124  5  1.0  1.0\n",
       "2021-01-03  0.644938  0.581051 -0.893889  5  2.0  5.0\n",
       "2021-01-04 -2.243623  1.110973 -1.556672  5  3.0  5.0"
      ],
      "text/html": "<div>\n<style scoped>\n    .dataframe tbody tr th:only-of-type {\n        vertical-align: middle;\n    }\n\n    .dataframe tbody tr th {\n        vertical-align: top;\n    }\n\n    .dataframe thead th {\n        text-align: right;\n    }\n</style>\n<table border=\"1\" class=\"dataframe\">\n  <thead>\n    <tr style=\"text-align: right;\">\n      <th></th>\n      <th>a</th>\n      <th>b</th>\n      <th>c</th>\n      <th>d</th>\n      <th>f</th>\n      <th>E</th>\n    </tr>\n  </thead>\n  <tbody>\n    <tr>\n      <th>2021-01-01</th>\n      <td>-0.740006</td>\n      <td>0.000000</td>\n      <td>-0.522981</td>\n      <td>5</td>\n      <td>0.0</td>\n      <td>1.0</td>\n    </tr>\n    <tr>\n      <th>2021-01-02</th>\n      <td>0.020446</td>\n      <td>1.018860</td>\n      <td>0.138124</td>\n      <td>5</td>\n      <td>1.0</td>\n      <td>1.0</td>\n    </tr>\n    <tr>\n      <th>2021-01-03</th>\n      <td>0.644938</td>\n      <td>0.581051</td>\n      <td>-0.893889</td>\n      <td>5</td>\n      <td>2.0</td>\n      <td>5.0</td>\n    </tr>\n    <tr>\n      <th>2021-01-04</th>\n      <td>-2.243623</td>\n      <td>1.110973</td>\n      <td>-1.556672</td>\n      <td>5</td>\n      <td>3.0</td>\n      <td>5.0</td>\n    </tr>\n  </tbody>\n</table>\n</div>"
     },
     "metadata": {},
     "execution_count": 70
    }
   ],
   "source": [
    "df1.fillna(value=5)"
   ]
  },
  {
   "cell_type": "code",
   "execution_count": 71,
   "metadata": {},
   "outputs": [
    {
     "output_type": "execute_result",
     "data": {
      "text/plain": [
       "                a      b      c      d      f      E\n",
       "2021-01-01  False  False  False  False  False  False\n",
       "2021-01-02  False  False  False  False  False  False\n",
       "2021-01-03  False  False  False  False  False   True\n",
       "2021-01-04  False  False  False  False  False   True"
      ],
      "text/html": "<div>\n<style scoped>\n    .dataframe tbody tr th:only-of-type {\n        vertical-align: middle;\n    }\n\n    .dataframe tbody tr th {\n        vertical-align: top;\n    }\n\n    .dataframe thead th {\n        text-align: right;\n    }\n</style>\n<table border=\"1\" class=\"dataframe\">\n  <thead>\n    <tr style=\"text-align: right;\">\n      <th></th>\n      <th>a</th>\n      <th>b</th>\n      <th>c</th>\n      <th>d</th>\n      <th>f</th>\n      <th>E</th>\n    </tr>\n  </thead>\n  <tbody>\n    <tr>\n      <th>2021-01-01</th>\n      <td>False</td>\n      <td>False</td>\n      <td>False</td>\n      <td>False</td>\n      <td>False</td>\n      <td>False</td>\n    </tr>\n    <tr>\n      <th>2021-01-02</th>\n      <td>False</td>\n      <td>False</td>\n      <td>False</td>\n      <td>False</td>\n      <td>False</td>\n      <td>False</td>\n    </tr>\n    <tr>\n      <th>2021-01-03</th>\n      <td>False</td>\n      <td>False</td>\n      <td>False</td>\n      <td>False</td>\n      <td>False</td>\n      <td>True</td>\n    </tr>\n    <tr>\n      <th>2021-01-04</th>\n      <td>False</td>\n      <td>False</td>\n      <td>False</td>\n      <td>False</td>\n      <td>False</td>\n      <td>True</td>\n    </tr>\n  </tbody>\n</table>\n</div>"
     },
     "metadata": {},
     "execution_count": 71
    }
   ],
   "source": [
    "pd.isnull(df1)"
   ]
  },
  {
   "cell_type": "code",
   "execution_count": 72,
   "metadata": {},
   "outputs": [
    {
     "output_type": "execute_result",
     "data": {
      "text/plain": [
       "a   -0.26563\n",
       "b    0.07381\n",
       "c   -0.31838\n",
       "d    5.00000\n",
       "f    2.50000\n",
       "dtype: float64"
      ]
     },
     "metadata": {},
     "execution_count": 72
    }
   ],
   "source": [
    "df.mean()"
   ]
  },
  {
   "cell_type": "code",
   "execution_count": 73,
   "metadata": {},
   "outputs": [
    {
     "output_type": "execute_result",
     "data": {
      "text/plain": [
       "2021-01-01    0.747403\n",
       "2021-01-02    1.435486\n",
       "2021-01-03    1.466420\n",
       "2021-01-04    1.062136\n",
       "2021-01-05    2.256597\n",
       "2021-01-06    1.419718\n",
       "Freq: D, dtype: float64"
      ]
     },
     "metadata": {},
     "execution_count": 73
    }
   ],
   "source": [
    "df.mean(1)"
   ]
  },
  {
   "cell_type": "code",
   "execution_count": 74,
   "metadata": {},
   "outputs": [],
   "source": [
    "s=pd.Series([1,3,5,np.nan,6,8],index=dates).shift(2)"
   ]
  },
  {
   "cell_type": "code",
   "execution_count": 75,
   "metadata": {},
   "outputs": [
    {
     "output_type": "execute_result",
     "data": {
      "text/plain": [
       "2021-01-01    NaN\n",
       "2021-01-02    NaN\n",
       "2021-01-03    1.0\n",
       "2021-01-04    3.0\n",
       "2021-01-05    5.0\n",
       "2021-01-06    NaN\n",
       "Freq: D, dtype: float64"
      ]
     },
     "metadata": {},
     "execution_count": 75
    }
   ],
   "source": [
    "s"
   ]
  },
  {
   "cell_type": "code",
   "execution_count": 76,
   "metadata": {},
   "outputs": [
    {
     "output_type": "execute_result",
     "data": {
      "text/plain": [
       "                   a         b         c  d    f\n",
       "2021-01-01 -0.740006  0.000000 -0.522981  5  0.0\n",
       "2021-01-02  0.020446  1.018860  0.138124  5  1.0\n",
       "2021-01-03  0.644938  0.581051 -0.893889  5  2.0\n",
       "2021-01-04 -2.243623  1.110973 -1.556672  5  3.0\n",
       "2021-01-05  1.312991  0.217583  0.752413  5  4.0\n",
       "2021-01-06 -0.588528 -2.485608  0.172727  5  5.0"
      ],
      "text/html": "<div>\n<style scoped>\n    .dataframe tbody tr th:only-of-type {\n        vertical-align: middle;\n    }\n\n    .dataframe tbody tr th {\n        vertical-align: top;\n    }\n\n    .dataframe thead th {\n        text-align: right;\n    }\n</style>\n<table border=\"1\" class=\"dataframe\">\n  <thead>\n    <tr style=\"text-align: right;\">\n      <th></th>\n      <th>a</th>\n      <th>b</th>\n      <th>c</th>\n      <th>d</th>\n      <th>f</th>\n    </tr>\n  </thead>\n  <tbody>\n    <tr>\n      <th>2021-01-01</th>\n      <td>-0.740006</td>\n      <td>0.000000</td>\n      <td>-0.522981</td>\n      <td>5</td>\n      <td>0.0</td>\n    </tr>\n    <tr>\n      <th>2021-01-02</th>\n      <td>0.020446</td>\n      <td>1.018860</td>\n      <td>0.138124</td>\n      <td>5</td>\n      <td>1.0</td>\n    </tr>\n    <tr>\n      <th>2021-01-03</th>\n      <td>0.644938</td>\n      <td>0.581051</td>\n      <td>-0.893889</td>\n      <td>5</td>\n      <td>2.0</td>\n    </tr>\n    <tr>\n      <th>2021-01-04</th>\n      <td>-2.243623</td>\n      <td>1.110973</td>\n      <td>-1.556672</td>\n      <td>5</td>\n      <td>3.0</td>\n    </tr>\n    <tr>\n      <th>2021-01-05</th>\n      <td>1.312991</td>\n      <td>0.217583</td>\n      <td>0.752413</td>\n      <td>5</td>\n      <td>4.0</td>\n    </tr>\n    <tr>\n      <th>2021-01-06</th>\n      <td>-0.588528</td>\n      <td>-2.485608</td>\n      <td>0.172727</td>\n      <td>5</td>\n      <td>5.0</td>\n    </tr>\n  </tbody>\n</table>\n</div>"
     },
     "metadata": {},
     "execution_count": 76
    }
   ],
   "source": [
    " df"
   ]
  },
  {
   "cell_type": "markdown",
   "metadata": {},
   "source": [
    "## Lab 10 Exercise\n",
    "1. WAP using Pandas to create a series from a list, numpy array and dict\n",
    "2. WAP using Pandas to convert the index of a series into a column of a dataframe\n",
    "3. WAP using Pandas to combine many series to form a dataframe\n",
    "4. WAP using Pandas to add, subtract, multiple and divide two Pandas Series. \n",
    "5. WAP using Pandas to compare the elements of the two Pandas Series.\n",
    "6. WAP using Pandas to create a datafame as follows\n",
    "    ### Name  Score    Attempts    Qualify\n",
    "        Ana    45       5          no\n",
    "        Priya  65       3          yes\n",
    "        Charu  78       4          yes\n",
    "        Suchi  12       4          no\n",
    "        Richa  4        2          no\n",
    "    6.1 WAP using Pandas to get the first 3 rows of a given DataFrame.\n",
    "\n",
    "    6.2 WAP using Pandas to select the 'name' and 'score' columns from the following DataFrame.\n",
    "\n",
    "    6.3 WAP using Pandas to select the specified columns and rows from a given data frame.\n",
    "\n",
    "    6.4 WAP using Pandas  to select the rows the score is between 0 and 20.\n",
    "\n",
    "    6.5 WAP using Pandas to select the rows where number of attempts in the examination is less than 4 and score     greater than 50.\n",
    "    \n",
    "    6.6 WAP using Pandas  to calculate the sum of the examination attempts by the students."
   ]
  },
  {
   "cell_type": "code",
   "execution_count": null,
   "metadata": {},
   "outputs": [],
   "source": []
  }
 ],
 "metadata": {
  "kernelspec": {
   "display_name": "Python 3",
   "language": "python",
   "name": "python3"
  },
  "language_info": {
   "codemirror_mode": {
    "name": "ipython",
    "version": 3
   },
   "file_extension": ".py",
   "mimetype": "text/x-python",
   "name": "python",
   "nbconvert_exporter": "python",
   "pygments_lexer": "ipython3",
   "version": "3.8.3"
  }
 },
 "nbformat": 4,
 "nbformat_minor": 4
}