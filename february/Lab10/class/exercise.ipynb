{
 "metadata": {
  "language_info": {
   "codemirror_mode": {
    "name": "ipython",
    "version": 3
   },
   "file_extension": ".py",
   "mimetype": "text/x-python",
   "name": "python",
   "nbconvert_exporter": "python",
   "pygments_lexer": "ipython3",
   "version": "3.9.1-final"
  },
  "orig_nbformat": 2,
  "kernelspec": {
   "name": "python391jvsc74a57bd063fd5069d213b44bf678585dea6b12cceca9941eaf7f819626cde1f2670de90d",
   "display_name": "Python 3.9.1 64-bit"
  },
  "metadata": {
   "interpreter": {
    "hash": "63fd5069d213b44bf678585dea6b12cceca9941eaf7f819626cde1f2670de90d"
   }
  }
 },
 "nbformat": 4,
 "nbformat_minor": 2,
 "cells": [
  {
   "cell_type": "code",
   "execution_count": 3,
   "metadata": {},
   "outputs": [],
   "source": [
    "import pandas as pd\n",
    "import numpy as np"
   ]
  },
  {
   "cell_type": "code",
   "execution_count": 18,
   "metadata": {},
   "outputs": [
    {
     "output_type": "stream",
     "name": "stdout",
     "text": [
      "a    10\nb    20\nc    30\nd    40\ne    50\ndtype: int64\n0    a\n1    b\n2    c\n3    d\n4    e\ndtype: object\nA    10\nB    20\nC    30\ndtype: int64\n"
     ]
    }
   ],
   "source": [
    "d = pd.Series([1,3,5,np.nan,6,8])\n",
    "d\n",
    "\n",
    "x = pd.Series([10, 20, 30, 40, 50], index =['a', 'b', 'c', 'd', 'e'])\n",
    "print(x)\n",
    "\n",
    "# numpy array\n",
    "data = np.array(['a', 'b', 'c', 'd', 'e'])\n",
    "# creating series\n",
    "s = pd.Series(data)\n",
    "print(s)\n",
    "\n",
    "# create a dictionary\n",
    "dictionary = {'A' : 10, 'B' : 20, 'C' : 30}\n",
    "# create a series\n",
    "dic = pd.Series(dictionary)\n",
    "print(dic)"
   ]
  },
  {
   "cell_type": "code",
   "execution_count": 20,
   "metadata": {},
   "outputs": [
    {
     "output_type": "stream",
     "name": "stdout",
     "text": [
      "  index   0\n0     a  10\n1     b  20\n2     c  30\n3     d  40\n4     e  50\nIndex(['a', 'b', 'c', 'd', 'e'], dtype='object')\n  index   0  y\n0     a  10  a\n1     b  20  b\n2     c  30  c\n3     d  40  d\n4     e  50  e\n"
     ]
    }
   ],
   "source": [
    "# using series.to_frame to\n",
    "# convert series to dataframe\n",
    "df = x.to_frame().reset_index()\n",
    "print(df)\n",
    "\n",
    "y = x.index\n",
    "print(y)\n",
    "df['y'] = y\n",
    "print(df)"
   ]
  },
  {
   "cell_type": "code",
   "execution_count": 23,
   "metadata": {},
   "outputs": [
    {
     "output_type": "stream",
     "name": "stdout",
     "text": [
      "     0\n0  ABC\n1  DEF\n2  GHI\n3  JKL\n4  MNO\n5  PQR\n     0\n0  ABC\n1  DEF\n2  GHI\n0  JKL\n1  MNO\n2  PQR\n"
     ]
    }
   ],
   "source": [
    "a = pd.Series([\"ABC\", \"DEF\",\"GHI\"])\n",
    "  \n",
    "b = pd.Series([\"JKL\", \"MNO\", \"PQR\"])\n",
    "  \n",
    "# combine two series then create a dataframe\n",
    "df = pd.DataFrame(a.append(b, ignore_index = True))\n",
    "print(df)\n",
    "df1 = pd.DataFrame(a.append(b,ignore_index = False))\n",
    "print(df1)"
   ]
  },
  {
   "cell_type": "code",
   "execution_count": 24,
   "metadata": {},
   "outputs": [
    {
     "output_type": "stream",
     "name": "stdout",
     "text": [
      "0     7\n1     9\n2    11\n3    13\n4    15\ndtype: int64\n0   -5\n1   -5\n2   -5\n3   -5\n4   -5\ndtype: int64\n0     6\n1    14\n2    24\n3    36\n4    50\ndtype: int64\n0    0.166667\n1    0.285714\n2    0.375000\n3    0.444444\n4    0.500000\ndtype: float64\n"
     ]
    }
   ],
   "source": [
    "# creating 2 Pandas Series\n",
    "series1 = pd.Series([1, 2, 3, 4, 5])\n",
    "series2 = pd.Series([6, 7, 8, 9, 10])\n",
    "  \n",
    "series3 = series1 + series2\n",
    "series4 = series1 - series2\n",
    "series5 = series1 * series2\n",
    "series6 = series1 / series2\n",
    "  \n",
    "# displaying the result\n",
    "print(series3)\n",
    "print(series4)\n",
    "print(series5)\n",
    "print(series6)"
   ]
  },
  {
   "cell_type": "code",
   "execution_count": 25,
   "metadata": {},
   "outputs": [
    {
     "output_type": "stream",
     "name": "stdout",
     "text": [
      "\nCompare the elements of the two given Series:\n\nEqual:\n0    False\n1    False\n2    False\n3    False\n4     True\n5     True\n6    False\ndtype: bool\n\nNot Equal:\n0     True\n1     True\n2     True\n3     True\n4    False\n5    False\n6     True\ndtype: bool\n"
     ]
    }
   ],
   "source": [
    "# Creating 2 pandas Series\n",
    "ps1 = pd.Series([2.5, 4, 6, 8, 10, 1.75, 40])\n",
    "ps2 = pd.Series([1.5, 3, 5, 7, 10, 1.75, 20])\n",
    "  \n",
    "# Compare the series using '==' and '!=' Relational operators\n",
    "print(\"\\nCompare the elements of the two given Series:\")\n",
    "print(\"\\nEqual:\")\n",
    "print(ps1 == ps2)\n",
    "print(\"\\nNot Equal:\")\n",
    "print(ps1 != ps2)"
   ]
  },
  {
   "cell_type": "code",
   "execution_count": 26,
   "metadata": {},
   "outputs": [
    {
     "output_type": "execute_result",
     "data": {
      "text/plain": [
       "    Name  Score  Attemps Qulaify\n",
       "0    Ana     45        5      no\n",
       "1  Priya     65        3     yes\n",
       "2  Charu     78        4     yes\n",
       "3  Suchi     12        4      no\n",
       "4  Richa      4        2      no"
      ],
      "text/html": "<div>\n<style scoped>\n    .dataframe tbody tr th:only-of-type {\n        vertical-align: middle;\n    }\n\n    .dataframe tbody tr th {\n        vertical-align: top;\n    }\n\n    .dataframe thead th {\n        text-align: right;\n    }\n</style>\n<table border=\"1\" class=\"dataframe\">\n  <thead>\n    <tr style=\"text-align: right;\">\n      <th></th>\n      <th>Name</th>\n      <th>Score</th>\n      <th>Attemps</th>\n      <th>Qulaify</th>\n    </tr>\n  </thead>\n  <tbody>\n    <tr>\n      <th>0</th>\n      <td>Ana</td>\n      <td>45</td>\n      <td>5</td>\n      <td>no</td>\n    </tr>\n    <tr>\n      <th>1</th>\n      <td>Priya</td>\n      <td>65</td>\n      <td>3</td>\n      <td>yes</td>\n    </tr>\n    <tr>\n      <th>2</th>\n      <td>Charu</td>\n      <td>78</td>\n      <td>4</td>\n      <td>yes</td>\n    </tr>\n    <tr>\n      <th>3</th>\n      <td>Suchi</td>\n      <td>12</td>\n      <td>4</td>\n      <td>no</td>\n    </tr>\n    <tr>\n      <th>4</th>\n      <td>Richa</td>\n      <td>4</td>\n      <td>2</td>\n      <td>no</td>\n    </tr>\n  </tbody>\n</table>\n</div>"
     },
     "metadata": {},
     "execution_count": 26
    }
   ],
   "source": [
    "data=pd.DataFrame({'Name':pd.Series([\"Ana\", \"Priya\", \"Charu\", \"Suchi\",\"Richa\"]),\n",
    "                  'Score':pd.Series([45,65,78,12,4]),\n",
    "                  'Attemps':pd.Series([5,3,4,4,2]),\n",
    "                  'Qulaify':pd.Categorical([\"no\", \"yes\", \"yes\", \"no\", \"no\"]),\n",
    "                  })\n",
    "data"
   ]
  },
  {
   "cell_type": "code",
   "execution_count": 29,
   "metadata": {},
   "outputs": [
    {
     "output_type": "execute_result",
     "data": {
      "text/plain": [
       "    Name  Score  Attemps Qulaify\n",
       "0    Ana     45        5      no\n",
       "1  Priya     65        3     yes\n",
       "2  Charu     78        4     yes"
      ],
      "text/html": "<div>\n<style scoped>\n    .dataframe tbody tr th:only-of-type {\n        vertical-align: middle;\n    }\n\n    .dataframe tbody tr th {\n        vertical-align: top;\n    }\n\n    .dataframe thead th {\n        text-align: right;\n    }\n</style>\n<table border=\"1\" class=\"dataframe\">\n  <thead>\n    <tr style=\"text-align: right;\">\n      <th></th>\n      <th>Name</th>\n      <th>Score</th>\n      <th>Attemps</th>\n      <th>Qulaify</th>\n    </tr>\n  </thead>\n  <tbody>\n    <tr>\n      <th>0</th>\n      <td>Ana</td>\n      <td>45</td>\n      <td>5</td>\n      <td>no</td>\n    </tr>\n    <tr>\n      <th>1</th>\n      <td>Priya</td>\n      <td>65</td>\n      <td>3</td>\n      <td>yes</td>\n    </tr>\n    <tr>\n      <th>2</th>\n      <td>Charu</td>\n      <td>78</td>\n      <td>4</td>\n      <td>yes</td>\n    </tr>\n  </tbody>\n</table>\n</div>"
     },
     "metadata": {},
     "execution_count": 29
    }
   ],
   "source": [
    "data.head(3)"
   ]
  },
  {
   "cell_type": "code",
   "execution_count": 32,
   "metadata": {},
   "outputs": [
    {
     "output_type": "execute_result",
     "data": {
      "text/plain": [
       "    Name  Score  Attemps Qulaify\n",
       "0    Ana     45        5      no\n",
       "1  Priya     65        3     yes\n",
       "2  Charu     78        4     yes"
      ],
      "text/html": "<div>\n<style scoped>\n    .dataframe tbody tr th:only-of-type {\n        vertical-align: middle;\n    }\n\n    .dataframe tbody tr th {\n        vertical-align: top;\n    }\n\n    .dataframe thead th {\n        text-align: right;\n    }\n</style>\n<table border=\"1\" class=\"dataframe\">\n  <thead>\n    <tr style=\"text-align: right;\">\n      <th></th>\n      <th>Name</th>\n      <th>Score</th>\n      <th>Attemps</th>\n      <th>Qulaify</th>\n    </tr>\n  </thead>\n  <tbody>\n    <tr>\n      <th>0</th>\n      <td>Ana</td>\n      <td>45</td>\n      <td>5</td>\n      <td>no</td>\n    </tr>\n    <tr>\n      <th>1</th>\n      <td>Priya</td>\n      <td>65</td>\n      <td>3</td>\n      <td>yes</td>\n    </tr>\n    <tr>\n      <th>2</th>\n      <td>Charu</td>\n      <td>78</td>\n      <td>4</td>\n      <td>yes</td>\n    </tr>\n  </tbody>\n</table>\n</div>"
     },
     "metadata": {},
     "execution_count": 32
    }
   ],
   "source": [
    "data.iloc[:3]"
   ]
  },
  {
   "cell_type": "code",
   "execution_count": 39,
   "metadata": {},
   "outputs": [
    {
     "output_type": "execute_result",
     "data": {
      "text/plain": [
       "    Name  Score\n",
       "0    Ana     45\n",
       "1  Priya     65\n",
       "2  Charu     78\n",
       "3  Suchi     12\n",
       "4  Richa      4"
      ],
      "text/html": "<div>\n<style scoped>\n    .dataframe tbody tr th:only-of-type {\n        vertical-align: middle;\n    }\n\n    .dataframe tbody tr th {\n        vertical-align: top;\n    }\n\n    .dataframe thead th {\n        text-align: right;\n    }\n</style>\n<table border=\"1\" class=\"dataframe\">\n  <thead>\n    <tr style=\"text-align: right;\">\n      <th></th>\n      <th>Name</th>\n      <th>Score</th>\n    </tr>\n  </thead>\n  <tbody>\n    <tr>\n      <th>0</th>\n      <td>Ana</td>\n      <td>45</td>\n    </tr>\n    <tr>\n      <th>1</th>\n      <td>Priya</td>\n      <td>65</td>\n    </tr>\n    <tr>\n      <th>2</th>\n      <td>Charu</td>\n      <td>78</td>\n    </tr>\n    <tr>\n      <th>3</th>\n      <td>Suchi</td>\n      <td>12</td>\n    </tr>\n    <tr>\n      <th>4</th>\n      <td>Richa</td>\n      <td>4</td>\n    </tr>\n  </tbody>\n</table>\n</div>"
     },
     "metadata": {},
     "execution_count": 39
    }
   ],
   "source": [
    "data.loc[:,[\"Name\",\"Score\"]]"
   ]
  },
  {
   "cell_type": "code",
   "execution_count": 45,
   "metadata": {},
   "outputs": [
    {
     "output_type": "execute_result",
     "data": {
      "text/plain": [
       "Name    Priya\n",
       "Name: 1, dtype: object"
      ]
     },
     "metadata": {},
     "execution_count": 45
    }
   ],
   "source": [
    "row = int(input(\"Enter the row number \"))\n",
    "col = input(\"Enter the name of the column\")\n",
    "\n",
    "data.loc[row,[col]]"
   ]
  },
  {
   "cell_type": "code",
   "execution_count": 66,
   "metadata": {},
   "outputs": [
    {
     "output_type": "stream",
     "name": "stdout",
     "text": [
      "    Name  Score  Attemps Qulaify\n3  Suchi     12        4      no\n4  Richa      4        2      no\n\n\n    Name  Score  Attemps Qulaify\n3  Suchi     12        4      no\n\n\n"
     ]
    },
    {
     "output_type": "execute_result",
     "data": {
      "text/plain": [
       "    Name  Score  Attemps Qulaify\n",
       "3  Suchi     12        4      no\n",
       "4  Richa      4        2      no"
      ],
      "text/html": "<div>\n<style scoped>\n    .dataframe tbody tr th:only-of-type {\n        vertical-align: middle;\n    }\n\n    .dataframe tbody tr th {\n        vertical-align: top;\n    }\n\n    .dataframe thead th {\n        text-align: right;\n    }\n</style>\n<table border=\"1\" class=\"dataframe\">\n  <thead>\n    <tr style=\"text-align: right;\">\n      <th></th>\n      <th>Name</th>\n      <th>Score</th>\n      <th>Attemps</th>\n      <th>Qulaify</th>\n    </tr>\n  </thead>\n  <tbody>\n    <tr>\n      <th>3</th>\n      <td>Suchi</td>\n      <td>12</td>\n      <td>4</td>\n      <td>no</td>\n    </tr>\n    <tr>\n      <th>4</th>\n      <td>Richa</td>\n      <td>4</td>\n      <td>2</td>\n      <td>no</td>\n    </tr>\n  </tbody>\n</table>\n</div>"
     },
     "metadata": {},
     "execution_count": 66
    }
   ],
   "source": [
    "print(data[data.Score<20 ])\n",
    "print(\"\\n\")\n",
    "print(data[data['Score'].between(5, 20)])\n",
    "print(\"\\n\")\n",
    "data.loc[(data[\"Score\"] > 0) & (data['Score'] <20)]"
   ]
  },
  {
   "cell_type": "code",
   "execution_count": 65,
   "metadata": {},
   "outputs": [
    {
     "output_type": "execute_result",
     "data": {
      "text/plain": [
       "    Name  Score  Attemps Qulaify\n",
       "1  Priya     65        3     yes"
      ],
      "text/html": "<div>\n<style scoped>\n    .dataframe tbody tr th:only-of-type {\n        vertical-align: middle;\n    }\n\n    .dataframe tbody tr th {\n        vertical-align: top;\n    }\n\n    .dataframe thead th {\n        text-align: right;\n    }\n</style>\n<table border=\"1\" class=\"dataframe\">\n  <thead>\n    <tr style=\"text-align: right;\">\n      <th></th>\n      <th>Name</th>\n      <th>Score</th>\n      <th>Attemps</th>\n      <th>Qulaify</th>\n    </tr>\n  </thead>\n  <tbody>\n    <tr>\n      <th>1</th>\n      <td>Priya</td>\n      <td>65</td>\n      <td>3</td>\n      <td>yes</td>\n    </tr>\n  </tbody>\n</table>\n</div>"
     },
     "metadata": {},
     "execution_count": 65
    }
   ],
   "source": [
    "\n",
    "data.loc[(data[\"Score\"] > 50) & (data['Attemps'] <4)]"
   ]
  },
  {
   "cell_type": "code",
   "execution_count": 67,
   "metadata": {},
   "outputs": [
    {
     "output_type": "execute_result",
     "data": {
      "text/plain": [
       "18"
      ]
     },
     "metadata": {},
     "execution_count": 67
    }
   ],
   "source": [
    "sum(data.Attemps)"
   ]
  },
  {
   "cell_type": "code",
   "execution_count": null,
   "metadata": {},
   "outputs": [],
   "source": []
  }
 ]
}