{
 "cells": [
  {
   "cell_type": "code",
   "execution_count": 1,
   "metadata": {},
   "outputs": [],
   "source": [
    "def fun(f):\n",
    "    r=1\n",
    "    for i in range(1,f+1):\n",
    "        r=r*i\n",
    "    return r"
   ]
  },
  {
   "cell_type": "code",
   "execution_count": 2,
   "metadata": {},
   "outputs": [
    {
     "name": "stdout",
     "output_type": "stream",
     "text": [
      "120\n"
     ]
    }
   ],
   "source": [
    "print(fun(5))"
   ]
  },
  {
   "cell_type": "code",
   "execution_count": 3,
   "metadata": {},
   "outputs": [],
   "source": [
    "def rfun(f):\n",
    "    if f==0:\n",
    "        return 1\n",
    "    else:\n",
    "        return(f*rfun(f-1))"
   ]
  },
  {
   "cell_type": "code",
   "execution_count": 4,
   "metadata": {},
   "outputs": [
    {
     "name": "stdout",
     "output_type": "stream",
     "text": [
      "120\n"
     ]
    }
   ],
   "source": [
    "print(rfun(5))"
   ]
  },
  {
   "cell_type": "code",
   "execution_count": 9,
   "metadata": {},
   "outputs": [],
   "source": [
    "def fab(a,b,n):\n",
    "    for i in range(n):\n",
    "        c=a+b\n",
    "        print(a,end=\" \")\n",
    "        a=b\n",
    "        b=c"
   ]
  },
  {
   "cell_type": "code",
   "execution_count": 10,
   "metadata": {},
   "outputs": [
    {
     "name": "stdout",
     "output_type": "stream",
     "text": [
      "0 1 1 2 3 5 8 13 21 34 "
     ]
    }
   ],
   "source": [
    "fab(0,1,10)"
   ]
  },
  {
   "cell_type": "code",
   "execution_count": 11,
   "metadata": {},
   "outputs": [],
   "source": [
    "def rfab(a,b,n):\n",
    "    if n>0:\n",
    "        print(a, end=\" \")\n",
    "        rfab(b,a+b,n-1)"
   ]
  },
  {
   "cell_type": "code",
   "execution_count": 12,
   "metadata": {},
   "outputs": [
    {
     "name": "stdout",
     "output_type": "stream",
     "text": [
      "0 1 1 2 3 5 8 13 21 34 "
     ]
    }
   ],
   "source": [
    "rfab(0,1,10)"
   ]
  },
  {
   "cell_type": "markdown",
   "metadata": {},
   "source": [
    "# Lab 5\n",
    "1. Write a function in python to find max of three numbers\n",
    "2. Write a function in python to sum all the numbers in a list\n",
    "3. Write a function in python to multiply all the numbrers in a list\n",
    "4. Write a function in python to reverse a string\n",
    "5. Write a function in python that takes a list and returns a new list with unique elements of the first list\n",
    "6. Write a function in python that checks whether a passed string is palindrome or not\n",
    "7. Write a function in python to access a function inside a function\n",
    "8. Write a function in python to generate even series upto the nth term\n",
    "9. Write a function in python to check if a number is prime or not\n",
    "10. Write a function in python to generate prime series between range inputted by a user.\n",
    "11. Write a recursive function in python to sum all the numbers in a list\n",
    "12. Write a recursive function in python to multiply all the numbrers in a list\n",
    "13. Write a recursive function in python to reverse a string\n",
    "14. Write a recursive function in python that takes a list and returns a new list with unique elements of the first list\n",
    "15. Write a recursive function in python that checks whether a passed string is palindrome or not\n",
    "16. Write a recursive function in python to generate even series upto the nth term\n",
    "17. Write a recursive function in python to check if a number is prime or not\n",
    "18. Write a recursive function in python to generate prime series between range inputted by a user."
   ]
  },
  {
   "cell_type": "code",
   "execution_count": null,
   "metadata": {},
   "outputs": [],
   "source": []
  }
 ],
 "metadata": {
  "kernelspec": {
   "display_name": "Python 3",
   "language": "python",
   "name": "python3"
  },
  "language_info": {
   "codemirror_mode": {
    "name": "ipython",
    "version": 3
   },
   "file_extension": ".py",
   "mimetype": "text/x-python",
   "name": "python",
   "nbconvert_exporter": "python",
   "pygments_lexer": "ipython3",
   "version": "3.7.3"
  }
 },
 "nbformat": 4,
 "nbformat_minor": 2
}
