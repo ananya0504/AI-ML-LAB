{
 "metadata": {
  "language_info": {
   "codemirror_mode": {
    "name": "ipython",
    "version": 3
   },
   "file_extension": ".py",
   "mimetype": "text/x-python",
   "name": "python",
   "nbconvert_exporter": "python",
   "pygments_lexer": "ipython3",
   "version": "3.8.3-final"
  },
  "orig_nbformat": 2,
  "kernelspec": {
   "name": "python3",
   "display_name": "Python 3",
   "language": "python"
  }
 },
 "nbformat": 4,
 "nbformat_minor": 2,
 "cells": [
  {
   "cell_type": "code",
   "execution_count": 1,
   "metadata": {},
   "outputs": [
    {
     "output_type": "stream",
     "name": "stdout",
     "text": [
      "Vowels: 20\n"
     ]
    }
   ],
   "source": [
    "f = open(\"abc.txt.txt\",\"r\")\n",
    "cv = 0\n",
    "for line in f:\n",
    "    for word in line:\n",
    "        if(word!=\" \" or word!=\"\\n\"):\n",
    "            for char in word:\n",
    "                if char in 'aeiou' or char in 'AEIOU':\n",
    "                    cv+=1\n",
    "print(\"Vowels:\",cv)\n",
    "f.close()"
   ]
  },
  {
   "cell_type": "code",
   "execution_count": null,
   "metadata": {},
   "outputs": [],
   "source": []
  }
 ]
}