{
 "metadata": {
  "language_info": {
   "codemirror_mode": {
    "name": "ipython",
    "version": 3
   },
   "file_extension": ".py",
   "mimetype": "text/x-python",
   "name": "python",
   "nbconvert_exporter": "python",
   "pygments_lexer": "ipython3",
   "version": "3.8.3-final"
  },
  "orig_nbformat": 2,
  "kernelspec": {
   "name": "python3",
   "display_name": "Python 3",
   "language": "python"
  }
 },
 "nbformat": 4,
 "nbformat_minor": 2,
 "cells": [
  {
   "cell_type": "code",
   "execution_count": 1,
   "metadata": {},
   "outputs": [
    {
     "output_type": "stream",
     "name": "stdout",
     "text": [
      "Lines: 3 Words: 12 Characters: 48\n"
     ]
    }
   ],
   "source": [
    "f = open(\"abc.txt.txt\",\"r\")\n",
    "c = 0\n",
    "w = 1\n",
    "l = 0\n",
    "for line in f:\n",
    "    l+=1\n",
    "    for word in line:\n",
    "        if(word==\" \" or word==\"\\n\"):\n",
    "            w+=1\n",
    "        else:\n",
    "            for char in word:\n",
    "                c+=1\n",
    "print(\"Lines:\",l,\"Words:\",w,\"Characters:\",c)\n",
    "f.close()"
   ]
  },
  {
   "cell_type": "code",
   "execution_count": null,
   "metadata": {},
   "outputs": [],
   "source": []
  }
 ]
}