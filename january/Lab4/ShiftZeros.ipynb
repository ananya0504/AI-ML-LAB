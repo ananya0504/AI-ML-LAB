{
 "metadata": {
  "language_info": {
   "codemirror_mode": {
    "name": "ipython",
    "version": 3
   },
   "file_extension": ".py",
   "mimetype": "text/x-python",
   "name": "python",
   "nbconvert_exporter": "python",
   "pygments_lexer": "ipython3",
   "version": 3
  },
  "orig_nbformat": 2
 },
 "nbformat": 4,
 "nbformat_minor": 2,
 "cells": [
  {
   "cell_type": "code",
   "execution_count": null,
   "metadata": {},
   "outputs": [],
   "source": [
    "# Function which pushes all zeros to end of an array. \n",
    "def pushZerosToEnd(arr, n): \n",
    "    count = 0 # Count of all non-zero elements \n",
    "      \n",
    "    # Traverse the array. If element encountered is non-zero, then \n",
    "    # replace the element at index 'count' with this element \n",
    "    for i in range(n): \n",
    "        if arr[i] != 0: \n",
    "            # here count is incremented \n",
    "            arr[count] = arr[i] \n",
    "            count+=1\n",
    "      \n",
    "    # Now all non-zero elements have been shifted to front and 'count' is set \n",
    "    # as index of first 0. Make all elements 0 from count to end. \n",
    "    while count < n: \n",
    "        arr[count] = 0\n",
    "        count += 1\n",
    "          \n",
    "# Driver code \n",
    "arr = [1, 9, 8, 4, 0, 0, 2, 7, 0, 6, 0, 9] \n",
    "n = len(arr) \n",
    "pushZerosToEnd(arr, n) \n",
    "print(\"Array after pushing all zeros to end of array:\") \n",
    "print(arr) \n"
   ]
  }
 ]
}