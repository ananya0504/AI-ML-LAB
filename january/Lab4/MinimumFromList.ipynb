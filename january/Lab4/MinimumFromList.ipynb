{
 "metadata": {
  "language_info": {
   "codemirror_mode": {
    "name": "ipython",
    "version": 3
   },
   "file_extension": ".py",
   "mimetype": "text/x-python",
   "name": "python",
   "nbconvert_exporter": "python",
   "pygments_lexer": "ipython3",
   "version": "3.8.3-final"
  },
  "orig_nbformat": 2,
  "kernelspec": {
   "name": "python3",
   "display_name": "Python 3",
   "language": "python"
  }
 },
 "nbformat": 4,
 "nbformat_minor": 2,
 "cells": [
  {
   "cell_type": "code",
   "execution_count": 6,
   "metadata": {},
   "outputs": [
    {
     "output_type": "stream",
     "name": "stdout",
     "text": [
      "Minimum Element in the list [8, 1, 7, 10, 5] is 1\nMaximum Element in the list [8, 1, 7, 10, 5] is 10\n"
     ]
    }
   ],
   "source": [
    "list=[8,1,7,10,5] \n",
    "\n",
    "min, max = list[0], list[0]  \n",
    "\n",
    "for i in range(1,len(list)): \n",
    "    if list[i] < min: \n",
    "        min = list[i] \n",
    "    if list[i] > max: \n",
    "        max = list[i] \n",
    "print('Minimum Element in the list',list,'is',min) \n",
    "print('Maximum Element in the list',list,'is',max) "
   ]
  },
  {
   "cell_type": "code",
   "execution_count": 1,
   "metadata": {},
   "outputs": [
    {
     "output_type": "stream",
     "name": "stdout",
     "text": [
      "The maximum is 5 at position 6\nThe minimum is 1 at position 3\n"
     ]
    }
   ],
   "source": [
    "# function to find minimum and maximum position in list \n",
    "def minimum(l, n): \n",
    "  \n",
    "    # inbuilt function to find the position of minimum  \n",
    "    minpos = l.index(min(l)) \n",
    "      \n",
    "    # inbuilt function to find the position of maximum  \n",
    "    maxpos = l.index(max(l))  \n",
    "      \n",
    "    # printing the position  \n",
    "    print (\"The maximum is\", l[maxpos], \"at position\", maxpos + 1 )\n",
    "    print (\"The minimum is\", l[minpos], \"at position\", minpos + 1)\n",
    "      \n",
    "      \n",
    "# driver code \n",
    "l = [3, 4, 1, 3, 4, 5]  \n",
    "minimum(l, len(l)) "
   ]
  },
  {
   "cell_type": "code",
   "execution_count": null,
   "metadata": {},
   "outputs": [],
   "source": []
  }
 ]
}