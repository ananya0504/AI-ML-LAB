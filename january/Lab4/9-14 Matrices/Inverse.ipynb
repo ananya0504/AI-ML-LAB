{
 "cells": [
  {
   "cell_type": "code",
   "execution_count": 3,
   "metadata": {},
   "outputs": [
    {
     "name": "stdout",
     "output_type": "stream",
     "text": [
      "[[5. 3. 1.]\n",
      " [3. 9. 4.]\n",
      " [1. 3. 5.]] \n",
      "\n",
      "[[ 0.25  -0.091  0.023]\n",
      " [-0.083  0.182 -0.129]\n",
      " [ 0.    -0.091  0.273]]\n"
     ]
    }
   ],
   "source": [
    "import numpy as np\n",
    "from numpy.linalg import inv\n",
    "a = np.array([[5., 3., 1.], [3., 9., 4.], [1., 3., 5.]])\n",
    "print(a, '\\n')\n",
    " \n",
    "ainv = inv(a)\n",
    "ainv = ainv.round(3)\n",
    " \n",
    "print(ainv)"
   ]
  },
  {
   "cell_type": "code",
   "execution_count": null,
   "metadata": {},
   "outputs": [],
   "source": []
  }
 ],
 "metadata": {
  "kernelspec": {
   "display_name": "Python 3",
   "language": "python",
   "name": "python3"
  },
  "language_info": {
   "codemirror_mode": {
    "name": "ipython",
    "version": 3
   },
   "file_extension": ".py",
   "mimetype": "text/x-python",
   "name": "python",
   "nbconvert_exporter": "python",
   "pygments_lexer": "ipython3",
   "version": "3.8.3"
  }
 },
 "nbformat": 4,
 "nbformat_minor": 4
}
