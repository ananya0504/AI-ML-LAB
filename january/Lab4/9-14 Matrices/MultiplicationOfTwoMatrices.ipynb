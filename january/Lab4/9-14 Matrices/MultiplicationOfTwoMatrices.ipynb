{
 "cells": [
  {
   "cell_type": "code",
   "execution_count": 2,
   "metadata": {},
   "outputs": [
    {
     "name": "stdout",
     "output_type": "stream",
     "text": [
      "[53, 60, 28, 23]\n",
      "[93, 120, 69, 60]\n",
      "[39, 40, 64, 69]\n"
     ]
    }
   ],
   "source": [
    "A = [[1, 7, 3], \n",
    "    [9, 6, 6], \n",
    "    [3, 1, 9]] \n",
    "  \n",
    "# take a 3x4 matrix     \n",
    "B = [[5, 8, 3, 2], \n",
    "    [6, 7, 1, 0], \n",
    "    [2, 1, 6, 7]] \n",
    "      \n",
    "result = [[0, 0, 0, 0], \n",
    "        [0, 0, 0, 0], \n",
    "        [0, 0, 0, 0]] \n",
    "  \n",
    "# iterating by row of A \n",
    "for i in range(len(A)): \n",
    "  \n",
    "    # iterating by coloum by B  \n",
    "    for j in range(len(B[0])): \n",
    "  \n",
    "        # iterating by rows of B \n",
    "        for k in range(len(B)): \n",
    "            result[i][j] += A[i][k] * B[k][j] \n",
    "  \n",
    "for r in result: \n",
    "    print(r) "
   ]
  },
  {
   "cell_type": "code",
   "execution_count": null,
   "metadata": {},
   "outputs": [],
   "source": []
  }
 ],
 "metadata": {
  "kernelspec": {
   "display_name": "Python 3",
   "language": "python",
   "name": "python3"
  },
  "language_info": {
   "name": ""
  }
 },
 "nbformat": 4,
 "nbformat_minor": 4
}
