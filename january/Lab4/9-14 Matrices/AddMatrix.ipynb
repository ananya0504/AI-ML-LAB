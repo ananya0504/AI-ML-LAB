{
 "metadata": {
  "language_info": {
   "codemirror_mode": {
    "name": "ipython",
    "version": 3
   },
   "file_extension": ".py",
   "mimetype": "text/x-python",
   "name": "python",
   "nbconvert_exporter": "python",
   "pygments_lexer": "ipython3",
   "version": "3.8.3-final"
  },
  "orig_nbformat": 2,
  "kernelspec": {
   "name": "python3",
   "display_name": "Python 3",
   "language": "python"
  }
 },
 "nbformat": 4,
 "nbformat_minor": 2,
 "cells": [
  {
   "cell_type": "code",
   "execution_count": 3,
   "metadata": {},
   "outputs": [
    {
     "output_type": "stream",
     "name": "stdout",
     "text": [
      "Enter the entries rowwise for matrix 1:\n",
      "Enter the entries rowwise for matrix 2:\n",
      "M1\n",
      "1 2 \n",
      "3 4 \n",
      "M2\n",
      "5 6 \n",
      "7 8 \n",
      "M1 + M2\n",
      "6 8 \n",
      "10 12 \n"
     ]
    }
   ],
   "source": [
    "R = int(input(\"Enter the number of rows:\")) \n",
    "C = int(input(\"Enter the number of columns:\")) \n",
    "  \n",
    "m1 = [] \n",
    "m2 = [] \n",
    "\n",
    "print(\"Enter the entries rowwise for matrix 1:\") \n",
    "  \n",
    "# For user input \n",
    "for i in range(R):          # A for loop for row entries \n",
    "    a =[] \n",
    "    for j in range(C):      # A for loop for column entries \n",
    "         a.append(int(input())) \n",
    "    m1.append(a) \n",
    "\n",
    "print(\"Enter the entries rowwise for matrix 2:\") \n",
    "  \n",
    "# For user input \n",
    "for i in range(R):          # A for loop for row entries \n",
    "    a =[] \n",
    "    for j in range(C):      # A for loop for column entries \n",
    "         a.append(int(input())) \n",
    "    m2.append(a) \n",
    "\n",
    "# For printing m1 \n",
    "print(\"M1\")\n",
    "for i in range(R): \n",
    "    for j in range(C): \n",
    "        print(m1[i][j], end = \" \") \n",
    "    print() \n",
    "\n",
    "# For printing m2\n",
    "print(\"M2\")\n",
    "for i in range(R): \n",
    "    for j in range(C): \n",
    "        print(m2[i][j], end = \" \") \n",
    "    print() \n",
    "  \n",
    "# For printing the matrix sum\n",
    "print(\"M1 + M2\")\n",
    "for i in range(R): \n",
    "    for j in range(C): \n",
    "        print(m1[i][j]+ m2[i][j], end = \" \") \n",
    "    print() "
   ]
  },
  {
   "cell_type": "code",
   "execution_count": null,
   "metadata": {},
   "outputs": [],
   "source": []
  }
 ]
}