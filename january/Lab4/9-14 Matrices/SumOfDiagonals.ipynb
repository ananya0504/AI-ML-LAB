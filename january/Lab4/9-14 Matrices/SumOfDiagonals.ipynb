{
 "cells": [
  {
   "cell_type": "code",
   "execution_count": 3,
   "metadata": {},
   "outputs": [
    {
     "name": "stdout",
     "output_type": "stream",
     "text": [
      "Sum of First Diagonal: 4\n",
      "Sum of Second Diagonal: 18\n"
     ]
    }
   ],
   "source": [
    "MAX = 100\n",
    "  \n",
    "def printDiagonalSums(mat, n): \n",
    "  \n",
    "    p = 0\n",
    "    s = 0; \n",
    "    for i in range(0, n):  \n",
    "        for j in range(0, n):  \n",
    "  \n",
    "            # Condition for principal diagonal \n",
    "            if (i == j): \n",
    "                p += mat[i][j] \n",
    "  \n",
    "            # Condition for secondary diagonal \n",
    "            if ((i + j) == (n - 1)): \n",
    "                s += mat[i][j] \n",
    "          \n",
    "    print(\"Sum of First Diagonal:\", p) \n",
    "    print(\"Sum of Second Diagonal:\", s) \n",
    "a = [[ 1, 2, 3, 4 ], \n",
    "     [ 5, 1, 7, 8 ],  \n",
    "     [ 1, 2, 1, 4 ], \n",
    "     [ 5, 6, 7, 1 ]] \n",
    "printDiagonalSums(a, 4) "
   ]
  },
  {
   "cell_type": "code",
   "execution_count": null,
   "metadata": {},
   "outputs": [],
   "source": []
  }
 ],
 "metadata": {
  "kernelspec": {
   "display_name": "Python 3",
   "language": "python",
   "name": "python3"
  },
  "language_info": {
   "codemirror_mode": {
    "name": "ipython",
    "version": 3
   },
   "file_extension": ".py",
   "mimetype": "text/x-python",
   "name": "python",
   "nbconvert_exporter": "python",
   "pygments_lexer": "ipython3",
   "version": "3.8.3"
  }
 },
 "nbformat": 4,
 "nbformat_minor": 4
}
