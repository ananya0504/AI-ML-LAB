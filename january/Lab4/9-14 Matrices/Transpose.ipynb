{
 "cells": [
  {
   "cell_type": "code",
   "execution_count": 4,
   "metadata": {},
   "outputs": [
    {
     "name": "stdout",
     "output_type": "stream",
     "text": [
      "Result matrix is\n",
      "1  5  1  4  \n",
      "5  9  1  4  \n",
      "1  1  1  4  \n",
      "4  4  4  3  \n"
     ]
    }
   ],
   "source": [
    "N=4\n",
    "def transpose(A,B): \n",
    "      for i in range(N): \n",
    "            for j in range(N): \n",
    "                B[i][j] = A[j][i] \n",
    "A = [ [1, 2, 4, 6], \n",
    "    [5, 9, 1, 7], \n",
    "    [1, 1, 1, 8], \n",
    "    [4, 4, 4, 3]] \n",
    "   \n",
    "B = A[:][:]\n",
    "  \n",
    "transpose(A, B) \n",
    "   \n",
    "print(\"Result matrix is\") \n",
    "for i in range(N): \n",
    "    for j in range(N): \n",
    "        print(B[i][j], \" \", end='') \n",
    "    print() "
   ]
  },
  {
   "cell_type": "code",
   "execution_count": null,
   "metadata": {},
   "outputs": [],
   "source": []
  }
 ],
 "metadata": {
  "kernelspec": {
   "display_name": "Python 3",
   "language": "python",
   "name": "python3"
  },
  "language_info": {
   "codemirror_mode": {
    "name": "ipython",
    "version": 3
   },
   "file_extension": ".py",
   "mimetype": "text/x-python",
   "name": "python",
   "nbconvert_exporter": "python",
   "pygments_lexer": "ipython3",
   "version": "3.8.3"
  }
 },
 "nbformat": 4,
 "nbformat_minor": 4
}
