{
 "metadata": {
  "language_info": {
   "codemirror_mode": {
    "name": "ipython",
    "version": 3
   },
   "file_extension": ".py",
   "mimetype": "text/x-python",
   "name": "python",
   "nbconvert_exporter": "python",
   "pygments_lexer": "ipython3",
   "version": "3.8.3-final"
  },
  "orig_nbformat": 2,
  "kernelspec": {
   "name": "python3",
   "display_name": "Python 3",
   "language": "python"
  }
 },
 "nbformat": 4,
 "nbformat_minor": 2,
 "cells": [
  {
   "cell_type": "code",
   "execution_count": 4,
   "metadata": {},
   "outputs": [
    {
     "output_type": "stream",
     "name": "stdout",
     "text": [
      "Second largest element is: 45\n"
     ]
    }
   ],
   "source": [
    "#Sort the list in ascending order and print the second last element in the list. \n",
    "\n",
    "list = [10, 20, 4, 45, 99]\n",
    " \n",
    "# sorting the list\n",
    "list.sort()\n",
    " \n",
    "# printing the second last element\n",
    "print(\"Second largest element is:\", list[-2])"
   ]
  },
  {
   "cell_type": "code",
   "execution_count": 3,
   "metadata": {},
   "outputs": [
    {
     "output_type": "stream",
     "name": "stdout",
     "text": [
      "45\n"
     ]
    }
   ],
   "source": [
    "#By removing the max element from the list \n",
    "\n",
    "list1 = [10, 20, 4, 45, 99]\n",
    " \n",
    "new_list = set(list1)\n",
    " \n",
    "# removing the largest element from temp list\n",
    "new_list.remove(max(new_list))\n",
    " \n",
    "# elements in original list are not changed\n",
    "# print(list1)\n",
    "print(max(new_list))"
   ]
  }
 ]
}