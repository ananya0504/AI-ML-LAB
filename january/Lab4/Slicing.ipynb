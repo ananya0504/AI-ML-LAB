{
 "metadata": {
  "language_info": {
   "codemirror_mode": {
    "name": "ipython",
    "version": 3
   },
   "file_extension": ".py",
   "mimetype": "text/x-python",
   "name": "python",
   "nbconvert_exporter": "python",
   "pygments_lexer": "ipython3",
   "version": "3.8.3-final"
  },
  "orig_nbformat": 2,
  "kernelspec": {
   "name": "python3",
   "display_name": "Python 3",
   "language": "python"
  }
 },
 "nbformat": 4,
 "nbformat_minor": 2,
 "cells": [
  {
   "cell_type": "code",
   "execution_count": 3,
   "metadata": {},
   "outputs": [
    {
     "output_type": "stream",
     "name": "stdout",
     "text": [
      "list[0:3] = [3, 78, 4]\nlist[4:5] = [89]\nlist[0:3] + list[4:5] = [3, 78, 4, 89]\nlist[0:3] < list[4:5]\n"
     ]
    }
   ],
   "source": [
    "list =[3,78,4,1,89,43,80,23,11,63,87,22] \n",
    "print(\"list[0:3] =\", list[0:3] )\n",
    "print(\"list[4:5] =\", list[4:5] )\n",
    "print(\"list[0:3] + list[4:5] =\", list[0:3] + list[4:5] )\n",
    "\n",
    "if(list[0:3] < list[4:5]):\n",
    "    print(\"list[0:3] < list[4:5]\")\n",
    "else:\n",
    "    print(\"list[0:3] > list[4:5]\")"
   ]
  },
  {
   "cell_type": "code",
   "execution_count": null,
   "metadata": {},
   "outputs": [],
   "source": []
  }
 ]
}