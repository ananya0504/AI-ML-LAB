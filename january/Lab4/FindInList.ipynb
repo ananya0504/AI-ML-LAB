{
 "metadata": {
  "language_info": {
   "codemirror_mode": {
    "name": "ipython",
    "version": 3
   },
   "file_extension": ".py",
   "mimetype": "text/x-python",
   "name": "python",
   "nbconvert_exporter": "python",
   "pygments_lexer": "ipython3",
   "version": "3.8.3-final"
  },
  "orig_nbformat": 2,
  "kernelspec": {
   "name": "python3",
   "display_name": "Python 3",
   "language": "python"
  }
 },
 "nbformat": 4,
 "nbformat_minor": 2,
 "cells": [
  {
   "cell_type": "code",
   "execution_count": 13,
   "metadata": {},
   "outputs": [
    {
     "output_type": "stream",
     "name": "stdout",
     "text": [
      "Checking if 7 exists in list ( using loop ) : \n7 does not exist\nChecking if 7 exists in list ( using in ) : \n7 does not exists\n"
     ]
    }
   ],
   "source": [
    "test_list = [ 1, 6, 3, 5, 3, 4 ] \n",
    "flag=0\n",
    "num = int(input(\"Enter element you wish to search: \"))\n",
    "  \n",
    "print(\"Checking if\",num, \"exists in list ( using loop ) : \") \n",
    "  \n",
    "for i in test_list: \n",
    "    if(i == num): \n",
    "        flag=1\n",
    "        break\n",
    "\n",
    "if flag==1:\n",
    "    print(num, \"exists\")\n",
    "else:\n",
    "    print(num, \"does not exist\")\n",
    "\n",
    "print(\"Checking if\",num,\"exists in list ( using in ) : \") \n",
    "  \n",
    "if (num in test_list): \n",
    "    print (num, \"exists\") \n",
    "else:\n",
    "    print(num, \"does not exists\")"
   ]
  },
  {
   "cell_type": "code",
   "execution_count": null,
   "metadata": {},
   "outputs": [],
   "source": []
  }
 ]
}