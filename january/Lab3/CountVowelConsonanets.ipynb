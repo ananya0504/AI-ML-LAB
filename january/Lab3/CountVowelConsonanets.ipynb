{
 "metadata": {
  "language_info": {
   "codemirror_mode": {
    "name": "ipython",
    "version": 3
   },
   "file_extension": ".py",
   "mimetype": "text/x-python",
   "name": "python",
   "nbconvert_exporter": "python",
   "pygments_lexer": "ipython3",
   "version": "3.8.3-final"
  },
  "orig_nbformat": 2,
  "kernelspec": {
   "name": "python3",
   "display_name": "Python 3",
   "language": "python"
  }
 },
 "nbformat": 4,
 "nbformat_minor": 2,
 "cells": [
  {
   "cell_type": "code",
   "execution_count": 2,
   "metadata": {},
   "outputs": [
    {
     "output_type": "stream",
     "name": "stdout",
     "text": [
      "Number of vowels in ananya are 3\nNumber of consonants in ananya are 3\n"
     ]
    }
   ],
   "source": [
    "s = input(\"Enter the string\")\n",
    "co = 0\n",
    "cv = 0\n",
    "n = len(s)\n",
    "for i in range(0,n):\n",
    "    if(s[i] in 'aeiou' or s[i] in 'AEIOU'):\n",
    "        cv = cv+1\n",
    "    else:\n",
    "        co = co+1\n",
    "print(\"Number of vowels in\",s,\"are\",cv)\n",
    "print(\"Number of consonants in\",s,\"are\",co)"
   ]
  },
  {
   "cell_type": "code",
   "execution_count": null,
   "metadata": {},
   "outputs": [],
   "source": []
  }
 ]
}