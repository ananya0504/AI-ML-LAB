{
 "metadata": {
  "language_info": {
   "codemirror_mode": {
    "name": "ipython",
    "version": 3
   },
   "file_extension": ".py",
   "mimetype": "text/x-python",
   "name": "python",
   "nbconvert_exporter": "python",
   "pygments_lexer": "ipython3",
   "version": "3.8.3-final"
  },
  "orig_nbformat": 2,
  "kernelspec": {
   "name": "python3",
   "display_name": "Python 3",
   "language": "python"
  }
 },
 "nbformat": 4,
 "nbformat_minor": 2,
 "cells": [
  {
   "cell_type": "code",
   "execution_count": 1,
   "metadata": {},
   "outputs": [
    {
     "output_type": "stream",
     "name": "stdout",
     "text": [
      "Original String: this is my world\nCapitalized words String: This is my world\n"
     ]
    }
   ],
   "source": [
    "string = input(\"Enter a string:\")\n",
    "length = len(string)\n",
    "a = 0\n",
    "end = length\n",
    "string2=''             #empty string\n",
    "while a < length :\n",
    "    if a == 0:\n",
    "        string2 += string[0].upper()\n",
    "        a += 1\n",
    "    elif (string[a] =='' and string[a+1] !=''):\n",
    "        string2 += sting[a]\n",
    "        string1 += string[a+1].upper()\n",
    "        a += 2\n",
    "    else :\n",
    "        string2 += string[a]\n",
    "        a += 1\n",
    "print(\"Original String:\", string)\n",
    "print(\"Capitalized words String:\", string2)"
   ]
  },
  {
   "cell_type": "code",
   "execution_count": null,
   "metadata": {},
   "outputs": [],
   "source": []
  }
 ]
}