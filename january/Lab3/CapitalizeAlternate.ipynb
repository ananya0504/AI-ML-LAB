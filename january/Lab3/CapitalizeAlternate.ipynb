{
 "metadata": {
  "language_info": {
   "codemirror_mode": {
    "name": "ipython",
    "version": 3
   },
   "file_extension": ".py",
   "mimetype": "text/x-python",
   "name": "python",
   "nbconvert_exporter": "python",
   "pygments_lexer": "ipython3",
   "version": "3.8.3-final"
  },
  "orig_nbformat": 2,
  "kernelspec": {
   "name": "python3",
   "display_name": "Python 3",
   "language": "python"
  }
 },
 "nbformat": 4,
 "nbformat_minor": 2,
 "cells": [
  {
   "cell_type": "code",
   "execution_count": 1,
   "metadata": {},
   "outputs": [
    {
     "output_type": "stream",
     "name": "stdout",
     "text": [
      "uIwBkJ the final string\n"
     ]
    }
   ],
   "source": [
    "s = input(\"Enter the string\")\n",
    "n = len(s)\n",
    "res = \"\"\n",
    "for i in range(0,n):\n",
    "    if(i%2==0):\n",
    "        res+=s[i]\n",
    "    else:\n",
    "        res+=s[i].upper()\n",
    "print(res,\"the final string\")"
   ]
  },
  {
   "cell_type": "code",
   "execution_count": null,
   "metadata": {},
   "outputs": [],
   "source": []
  }
 ]
}