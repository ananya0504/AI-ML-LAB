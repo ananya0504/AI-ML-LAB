{
 "metadata": {
  "language_info": {
   "codemirror_mode": {
    "name": "ipython",
    "version": 3
   },
   "file_extension": ".py",
   "mimetype": "text/x-python",
   "name": "python",
   "nbconvert_exporter": "python",
   "pygments_lexer": "ipython3",
   "version": "3.8.3-final"
  },
  "orig_nbformat": 2,
  "kernelspec": {
   "name": "python3",
   "display_name": "Python 3",
   "language": "python"
  }
 },
 "nbformat": 4,
 "nbformat_minor": 2,
 "cells": [
  {
   "cell_type": "code",
   "execution_count": 1,
   "metadata": {},
   "outputs": [
    {
     "output_type": "stream",
     "name": "stdout",
     "text": [
      "bgr is the longest substring with consonants\n"
     ]
    }
   ],
   "source": [
    "s = input(\"Enter the string\")\n",
    "mx = 0\n",
    "res = \"\"\n",
    "sub = \"\"\n",
    "n = len(s)\n",
    "for i in range(0,n):\n",
    "    if s[i] in 'aeiou' or s[i] in 'AEIOU':\n",
    "        if(len(sub)>mx):\n",
    "            res = sub\n",
    "            mx = len(sub)\n",
    "        sub = \"\"\n",
    "    else:\n",
    "        sub = sub+s[i]\n",
    "print(res,\"is the longest substring with consonants\")"
   ]
  },
  {
   "cell_type": "code",
   "execution_count": null,
   "metadata": {},
   "outputs": [],
   "source": []
  }
 ]
}