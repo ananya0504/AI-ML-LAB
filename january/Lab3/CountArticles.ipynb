{
 "metadata": {
  "language_info": {
   "codemirror_mode": {
    "name": "ipython",
    "version": 3
   },
   "file_extension": ".py",
   "mimetype": "text/x-python",
   "name": "python",
   "nbconvert_exporter": "python",
   "pygments_lexer": "ipython3",
   "version": "3.8.3-final"
  },
  "orig_nbformat": 2,
  "kernelspec": {
   "name": "python3",
   "display_name": "Python 3",
   "language": "python"
  }
 },
 "nbformat": 4,
 "nbformat_minor": 2,
 "cells": [
  {
   "cell_type": "code",
   "execution_count": 2,
   "metadata": {},
   "outputs": [
    {
     "output_type": "stream",
     "name": "stdout",
     "text": [
      "The total number of articles in \" a an the a an the a an the \" are: 9\n"
     ]
    }
   ],
   "source": [
    "import re\n",
    "a=0\n",
    "an=0\n",
    "the=0\n",
    "s =input(\"Enter the string\")\n",
    "l = s.split()\n",
    "\n",
    "for i in l:\n",
    "    if(i=='a'):\n",
    "        a+=1\n",
    "    elif (i=='an'):\n",
    "        an+=1\n",
    "    elif (i=='the'):\n",
    "        the+=1\n",
    "\n",
    "print(\"The total number of articles in \\\"\",s,\"\\\" are:\", a+an+the)\n"
   ]
  },
  {
   "cell_type": "code",
   "execution_count": null,
   "metadata": {},
   "outputs": [],
   "source": []
  }
 ]
}