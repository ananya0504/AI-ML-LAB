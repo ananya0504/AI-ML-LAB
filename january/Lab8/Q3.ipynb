{
 "metadata": {
  "language_info": {
   "codemirror_mode": {
    "name": "ipython",
    "version": 3
   },
   "file_extension": ".py",
   "mimetype": "text/x-python",
   "name": "python",
   "nbconvert_exporter": "python",
   "pygments_lexer": "ipython3",
   "version": "3.8.3"
  },
  "orig_nbformat": 2,
  "kernelspec": {
   "name": "python3",
   "display_name": "Python 3.8.3 64-bit (conda)",
   "metadata": {
    "interpreter": {
     "hash": "dcd2035270d50d9430c41968e6aed532c91d837d37b6de1eec5eec412a86cd4c"
    }
   }
  }
 },
 "nbformat": 4,
 "nbformat_minor": 2,
 "cells": [
  {
   "cell_type": "code",
   "execution_count": 1,
   "metadata": {},
   "outputs": [],
   "source": [
    "import numpy as np"
   ]
  },
  {
   "cell_type": "code",
   "execution_count": 8,
   "metadata": {},
   "outputs": [
    {
     "output_type": "stream",
     "name": "stdout",
     "text": [
      "[1 6 3 1 7 4 9 4 6 2 1]\n[[1 2 3]\n [1 2 3]]\n"
     ]
    }
   ],
   "source": [
    "A=np.array([1,6,3,1,7,4,9,4,6,2,1])\n",
    "B=np.matrix('[1,2,3;1,2,3]')\n",
    "print(A)\n",
    "print(B)"
   ]
  },
  {
   "cell_type": "code",
   "execution_count": 16,
   "metadata": {},
   "outputs": [
    {
     "output_type": "stream",
     "name": "stdout",
     "text": [
      "Tuple of arrays returned :  (array([ 0,  3, 10], dtype=int64),)\nValue 1 exists at following indices\n[ 0  3 10]\n\nTuple of arrays returned :  (array([0, 1], dtype=int64), array([0, 0], dtype=int64))\nValue 1 exists at following indices\n[0 1]\n"
     ]
    }
   ],
   "source": [
    "res1 = np.where(A == 1)\n",
    "print('Tuple of arrays returned : ', res1)\n",
    "print(\"Value 1 exists at following indices\", res1[0], sep='\\n')\n",
    "\n",
    "res2 = np.where(B == 1)\n",
    "print('\\nTuple of arrays returned : ', res2)\n",
    "print(\"Value 1 exists at following indices\", res2[0], sep='\\n')"
   ]
  },
  {
   "cell_type": "code",
   "execution_count": null,
   "metadata": {},
   "outputs": [],
   "source": []
  }
 ]
}