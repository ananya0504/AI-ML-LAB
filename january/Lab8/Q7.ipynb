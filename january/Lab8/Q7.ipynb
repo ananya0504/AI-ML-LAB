{
 "metadata": {
  "language_info": {
   "codemirror_mode": {
    "name": "ipython",
    "version": 3
   },
   "file_extension": ".py",
   "mimetype": "text/x-python",
   "name": "python",
   "nbconvert_exporter": "python",
   "pygments_lexer": "ipython3",
   "version": "3.8.3"
  },
  "orig_nbformat": 2,
  "kernelspec": {
   "name": "python3",
   "display_name": "Python 3.8.3 64-bit (conda)",
   "metadata": {
    "interpreter": {
     "hash": "dcd2035270d50d9430c41968e6aed532c91d837d37b6de1eec5eec412a86cd4c"
    }
   }
  }
 },
 "nbformat": 4,
 "nbformat_minor": 2,
 "cells": [
  {
   "cell_type": "code",
   "execution_count": 3,
   "metadata": {},
   "outputs": [
    {
     "output_type": "stream",
     "name": "stdout",
     "text": [
      "Matrix is:\n[[55 25 15]\n [30 44  2]\n [11 45 77]]\n\nDiagonal elements are:\n[55 44 77]\n\nSum of Diagonal elements is:\n176\n"
     ]
    }
   ],
   "source": [
    "import numpy as np \n",
    "  \n",
    "arr = np.array([[55, 25, 15], \n",
    "                [30, 44, 2], \n",
    "                [11, 45, 77]]) \n",
    "  \n",
    "print(\"Matrix is:\") \n",
    "print(arr) \n",
    "  \n",
    "# Finding the diagonal elements of a matrix \n",
    "diag = np.diagonal(arr) \n",
    "  \n",
    "print(\"\\nDiagonal elements are:\") \n",
    "print(diag) \n",
    "  \n",
    "print(\"\\nSum of Diagonal elements is:\") \n",
    "print(sum(diag)) "
   ]
  },
  {
   "cell_type": "code",
   "execution_count": null,
   "metadata": {},
   "outputs": [],
   "source": []
  }
 ]
}